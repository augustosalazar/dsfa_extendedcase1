{
 "cells": [
  {
   "cell_type": "markdown",
   "metadata": {},
   "source": [
    "<h1>How can we control the increasing number of accidents in New York?</h1>"
   ]
  },
  {
   "cell_type": "code",
   "execution_count": 1,
   "metadata": {},
   "outputs": [],
   "source": [
    "import json\n",
    "import requests\n",
    "from bs4 import BeautifulSoup\n",
    "import pandas as pd\n",
    "import matplotlib.pyplot as plt\n",
    "import seaborn as sns\n",
    "import numpy"
   ]
  },
  {
   "cell_type": "markdown",
   "metadata": {},
   "source": [
    "<h2>Introduction</h2>"
   ]
  },
  {
   "cell_type": "markdown",
   "metadata": {},
   "source": [
    "<p><strong>Business Context.</strong> The city of New York has seen a rise in the number of accidents on the roads in the city. They would like to know if the number of accidents have increased in the last few weeks. For all the reported accidents, they have collected details for each accident and have been maintaining records for the past year and a half (from January 2018 to August 2019). </p>\n",
    "<p>The city has contracted you to build visualizations that would help them identify patterns in accidents, which would help them take preventive actions to reduce the number of accidents in the future. They have certain parameters like borough, time of day, reason for accident, etc. Which they care about and which they would like to get specific information on.</p>"
   ]
  },
  {
   "cell_type": "markdown",
   "metadata": {},
   "source": [
    "<p><strong>Business Problem.</strong> Your task is to format the given data and provide visualizations that would answer the specific questions the client has, which are mentioned below.</p>"
   ]
  },
  {
   "cell_type": "markdown",
   "metadata": {},
   "source": [
    "<p><strong>Analytical Context.</strong> You are given a CSV file (stored in the already created <code>data</code> folder) containing details about each accident like date, time, location of the accident, reason for the accident, types of vehicles involved, injury and death count, etc. The delimiter in the given CSV file is <code>;</code> instead of the default <code>,</code>. You will be performing the following tasks on the data:</p>\n",
    "<ol>\n",
    "<li>Extract additional borough data stored in a JSON file</li>\n",
    "<li>Read, transform, and prepare data for visualization</li>\n",
    "<li>Perform analytics and construct visualizations of the data to identify patterns in the dataset</li>\n",
    "</ol>\n",
    "<p>The client has a specific set of questions they would like to get answers to. You will need to provide visualizations to accompany these:</p>\n",
    "<ol>\n",
    "<li>How have the number of accidents fluctuated over the past year and a half? Have they increased over the time?</li>\n",
    "<li>For any particular day, during which hours are accidents most likely to occur?</li>\n",
    "<li>Are there more accidents on weekdays than weekends?</li>\n",
    "<li>What are the accidents count-to-area ratio per borough? Which boroughs have disproportionately large numbers of accidents for their size?</li>\n",
    "<li>For each borough, during which hours are accidents most likely to occur?</li>\n",
    "<li>What are the top 5 causes of accidents in the city? </li>\n",
    "<li>What types of vehicles are most involved in accidents per borough?</li>\n",
    "<li>What types of vehicles are most involved in deaths?</li>\n",
    "</ol>"
   ]
  },
  {
   "cell_type": "markdown",
   "metadata": {},
   "source": [
    "<h2>Fetching the relevant data</h2>"
   ]
  },
  {
   "cell_type": "markdown",
   "metadata": {},
   "source": [
    "<p>The client has requested analysis of the accidents-to-area ratio for boroughs. Borough data is stored in a JSON file in the <code>data</code> folder.</p>"
   ]
  },
  {
   "cell_type": "markdown",
   "metadata": {},
   "source": [
    "<h3>Question :</h3>\n",
    "<p>Use the function <code>json.load()</code> to load the file <code>borough_data.json</code> as a dictionary.</p>"
   ]
  },
  {
   "cell_type": "markdown",
   "metadata": {
    "tags": [
     "ans_st"
    ]
   },
   "source": [
    "**Answer.**"
   ]
  },
  {
   "cell_type": "code",
   "execution_count": 2,
   "metadata": {},
   "outputs": [
    {
     "data": {
      "text/html": [
       "<div>\n",
       "<style scoped>\n",
       "    .dataframe tbody tr th:only-of-type {\n",
       "        vertical-align: middle;\n",
       "    }\n",
       "\n",
       "    .dataframe tbody tr th {\n",
       "        vertical-align: top;\n",
       "    }\n",
       "\n",
       "    .dataframe thead th {\n",
       "        text-align: right;\n",
       "    }\n",
       "</style>\n",
       "<table border=\"1\" class=\"dataframe\">\n",
       "  <thead>\n",
       "    <tr style=\"text-align: right;\">\n",
       "      <th></th>\n",
       "      <th>the bronx</th>\n",
       "      <th>brooklyn</th>\n",
       "      <th>manhattan</th>\n",
       "      <th>queens</th>\n",
       "      <th>staten island</th>\n",
       "    </tr>\n",
       "  </thead>\n",
       "  <tbody>\n",
       "    <tr>\n",
       "      <th>area</th>\n",
       "      <td>42.1</td>\n",
       "      <td>70.82</td>\n",
       "      <td>22.83</td>\n",
       "      <td>108.53</td>\n",
       "      <td>58.37</td>\n",
       "    </tr>\n",
       "    <tr>\n",
       "      <th>name</th>\n",
       "      <td>the bronx</td>\n",
       "      <td>brooklyn</td>\n",
       "      <td>manhattan</td>\n",
       "      <td>queens</td>\n",
       "      <td>staten island</td>\n",
       "    </tr>\n",
       "    <tr>\n",
       "      <th>population</th>\n",
       "      <td>1.47116e+06</td>\n",
       "      <td>2.64877e+06</td>\n",
       "      <td>1.66473e+06</td>\n",
       "      <td>2.35858e+06</td>\n",
       "      <td>479458</td>\n",
       "    </tr>\n",
       "  </tbody>\n",
       "</table>\n",
       "</div>"
      ],
      "text/plain": [
       "              the bronx     brooklyn    manhattan       queens  staten island\n",
       "area               42.1        70.82        22.83       108.53          58.37\n",
       "name          the bronx     brooklyn    manhattan       queens  staten island\n",
       "population  1.47116e+06  2.64877e+06  1.66473e+06  2.35858e+06         479458"
      ]
     },
     "execution_count": 2,
     "metadata": {},
     "output_type": "execute_result"
    }
   ],
   "source": [
    "bdf = pd.read_json(\"data/borough_data.json\")\n",
    "bdf"
   ]
  },
  {
   "cell_type": "markdown",
   "metadata": {},
   "source": [
    "<h3>Question :</h3>\n",
    "<p>Similarly, use the pandas function <code>read_csv()</code> to load the file <code>accidents.csv</code> as a DataFrame. Name this DataFrame <code>df</code>. </p>"
   ]
  },
  {
   "cell_type": "markdown",
   "metadata": {
    "tags": [
     "ans_st"
    ]
   },
   "source": [
    "**Answer.**"
   ]
  },
  {
   "cell_type": "code",
   "execution_count": 3,
   "metadata": {},
   "outputs": [
    {
     "data": {
      "text/plain": [
       "Index(['DATE', 'TIME', 'BOROUGH', 'ZIP CODE', 'LATITUDE', 'LONGITUDE',\n",
       "       'ON STREET NAME', 'NUMBER OF PEDESTRIANS INJURED',\n",
       "       'NUMBER OF PEDESTRIANS KILLED', 'NUMBER OF CYCLIST INJURED',\n",
       "       'NUMBER OF CYCLIST KILLED', 'NUMBER OF MOTORIST INJURED',\n",
       "       'NUMBER OF MOTORIST KILLED', 'CONTRIBUTING FACTOR VEHICLE 1',\n",
       "       'CONTRIBUTING FACTOR VEHICLE 2', 'CONTRIBUTING FACTOR VEHICLE 3',\n",
       "       'CONTRIBUTING FACTOR VEHICLE 4', 'CONTRIBUTING FACTOR VEHICLE 5',\n",
       "       'COLLISION_ID', 'VEHICLE TYPE CODE 1', 'VEHICLE TYPE CODE 2',\n",
       "       'VEHICLE TYPE CODE 3', 'VEHICLE TYPE CODE 4', 'VEHICLE TYPE CODE 5',\n",
       "       'COUNT'],\n",
       "      dtype='object')"
      ]
     },
     "execution_count": 3,
     "metadata": {},
     "output_type": "execute_result"
    }
   ],
   "source": [
    "adf = pd.read_csv(\"data/accidents.csv\",sep = \";\")\n",
    "adf['COUNT'] = 1\n",
    "adf.columns"
   ]
  },
  {
   "cell_type": "markdown",
   "metadata": {},
   "source": [
    "<h2>Overview of the data</h2>"
   ]
  },
  {
   "cell_type": "markdown",
   "metadata": {},
   "source": [
    "<p>Let's go through the columns present in the dataframe:</p>"
   ]
  },
  {
   "cell_type": "code",
   "execution_count": 4,
   "metadata": {},
   "outputs": [
    {
     "data": {
      "text/plain": [
       "Index(['DATE', 'TIME', 'BOROUGH', 'ZIP CODE', 'LATITUDE', 'LONGITUDE',\n",
       "       'ON STREET NAME', 'NUMBER OF PEDESTRIANS INJURED',\n",
       "       'NUMBER OF PEDESTRIANS KILLED', 'NUMBER OF CYCLIST INJURED',\n",
       "       'NUMBER OF CYCLIST KILLED', 'NUMBER OF MOTORIST INJURED',\n",
       "       'NUMBER OF MOTORIST KILLED', 'CONTRIBUTING FACTOR VEHICLE 1',\n",
       "       'CONTRIBUTING FACTOR VEHICLE 2', 'CONTRIBUTING FACTOR VEHICLE 3',\n",
       "       'CONTRIBUTING FACTOR VEHICLE 4', 'CONTRIBUTING FACTOR VEHICLE 5',\n",
       "       'COLLISION_ID', 'VEHICLE TYPE CODE 1', 'VEHICLE TYPE CODE 2',\n",
       "       'VEHICLE TYPE CODE 3', 'VEHICLE TYPE CODE 4', 'VEHICLE TYPE CODE 5',\n",
       "       'COUNT'],\n",
       "      dtype='object')"
      ]
     },
     "execution_count": 4,
     "metadata": {},
     "output_type": "execute_result"
    }
   ],
   "source": [
    "adf.columns"
   ]
  },
  {
   "cell_type": "code",
   "execution_count": 5,
   "metadata": {},
   "outputs": [
    {
     "data": {
      "text/html": [
       "<div>\n",
       "<style scoped>\n",
       "    .dataframe tbody tr th:only-of-type {\n",
       "        vertical-align: middle;\n",
       "    }\n",
       "\n",
       "    .dataframe tbody tr th {\n",
       "        vertical-align: top;\n",
       "    }\n",
       "\n",
       "    .dataframe thead th {\n",
       "        text-align: right;\n",
       "    }\n",
       "</style>\n",
       "<table border=\"1\" class=\"dataframe\">\n",
       "  <thead>\n",
       "    <tr style=\"text-align: right;\">\n",
       "      <th></th>\n",
       "      <th>DATE</th>\n",
       "      <th>TIME</th>\n",
       "      <th>BOROUGH</th>\n",
       "      <th>ZIP CODE</th>\n",
       "      <th>LATITUDE</th>\n",
       "      <th>LONGITUDE</th>\n",
       "      <th>ON STREET NAME</th>\n",
       "      <th>NUMBER OF PEDESTRIANS INJURED</th>\n",
       "      <th>NUMBER OF PEDESTRIANS KILLED</th>\n",
       "      <th>NUMBER OF CYCLIST INJURED</th>\n",
       "      <th>...</th>\n",
       "      <th>CONTRIBUTING FACTOR VEHICLE 3</th>\n",
       "      <th>CONTRIBUTING FACTOR VEHICLE 4</th>\n",
       "      <th>CONTRIBUTING FACTOR VEHICLE 5</th>\n",
       "      <th>COLLISION_ID</th>\n",
       "      <th>VEHICLE TYPE CODE 1</th>\n",
       "      <th>VEHICLE TYPE CODE 2</th>\n",
       "      <th>VEHICLE TYPE CODE 3</th>\n",
       "      <th>VEHICLE TYPE CODE 4</th>\n",
       "      <th>VEHICLE TYPE CODE 5</th>\n",
       "      <th>COUNT</th>\n",
       "    </tr>\n",
       "  </thead>\n",
       "  <tbody>\n",
       "    <tr>\n",
       "      <th>0</th>\n",
       "      <td>09/26/2018</td>\n",
       "      <td>12:12</td>\n",
       "      <td>BRONX</td>\n",
       "      <td>10454.0</td>\n",
       "      <td>40.808987</td>\n",
       "      <td>-73.911316</td>\n",
       "      <td>NaN</td>\n",
       "      <td>0</td>\n",
       "      <td>0</td>\n",
       "      <td>0</td>\n",
       "      <td>...</td>\n",
       "      <td>NaN</td>\n",
       "      <td>NaN</td>\n",
       "      <td>NaN</td>\n",
       "      <td>3988123</td>\n",
       "      <td>Sedan</td>\n",
       "      <td>NaN</td>\n",
       "      <td>NaN</td>\n",
       "      <td>NaN</td>\n",
       "      <td>NaN</td>\n",
       "      <td>1</td>\n",
       "    </tr>\n",
       "    <tr>\n",
       "      <th>1</th>\n",
       "      <td>09/25/2018</td>\n",
       "      <td>16:30</td>\n",
       "      <td>BROOKLYN</td>\n",
       "      <td>11236.0</td>\n",
       "      <td>40.636005</td>\n",
       "      <td>-73.912510</td>\n",
       "      <td>FLATLANDS AVENUE</td>\n",
       "      <td>1</td>\n",
       "      <td>0</td>\n",
       "      <td>0</td>\n",
       "      <td>...</td>\n",
       "      <td>NaN</td>\n",
       "      <td>NaN</td>\n",
       "      <td>NaN</td>\n",
       "      <td>3987962</td>\n",
       "      <td>Sedan</td>\n",
       "      <td>NaN</td>\n",
       "      <td>NaN</td>\n",
       "      <td>NaN</td>\n",
       "      <td>NaN</td>\n",
       "      <td>1</td>\n",
       "    </tr>\n",
       "    <tr>\n",
       "      <th>2</th>\n",
       "      <td>08/22/2019</td>\n",
       "      <td>19:30</td>\n",
       "      <td>QUEENS</td>\n",
       "      <td>11101.0</td>\n",
       "      <td>40.755490</td>\n",
       "      <td>-73.939530</td>\n",
       "      <td>NaN</td>\n",
       "      <td>0</td>\n",
       "      <td>0</td>\n",
       "      <td>0</td>\n",
       "      <td>...</td>\n",
       "      <td>NaN</td>\n",
       "      <td>NaN</td>\n",
       "      <td>NaN</td>\n",
       "      <td>4193132</td>\n",
       "      <td>Sedan</td>\n",
       "      <td>NaN</td>\n",
       "      <td>NaN</td>\n",
       "      <td>NaN</td>\n",
       "      <td>NaN</td>\n",
       "      <td>1</td>\n",
       "    </tr>\n",
       "    <tr>\n",
       "      <th>3</th>\n",
       "      <td>09/23/2018</td>\n",
       "      <td>13:10</td>\n",
       "      <td>QUEENS</td>\n",
       "      <td>11367.0</td>\n",
       "      <td>NaN</td>\n",
       "      <td>NaN</td>\n",
       "      <td>MAIN STREET</td>\n",
       "      <td>0</td>\n",
       "      <td>0</td>\n",
       "      <td>1</td>\n",
       "      <td>...</td>\n",
       "      <td>NaN</td>\n",
       "      <td>NaN</td>\n",
       "      <td>NaN</td>\n",
       "      <td>3985962</td>\n",
       "      <td>Bike</td>\n",
       "      <td>Station Wagon/Sport Utility Vehicle</td>\n",
       "      <td>NaN</td>\n",
       "      <td>NaN</td>\n",
       "      <td>NaN</td>\n",
       "      <td>1</td>\n",
       "    </tr>\n",
       "    <tr>\n",
       "      <th>4</th>\n",
       "      <td>08/20/2019</td>\n",
       "      <td>22:40</td>\n",
       "      <td>BRONX</td>\n",
       "      <td>10468.0</td>\n",
       "      <td>40.868336</td>\n",
       "      <td>-73.901270</td>\n",
       "      <td>NaN</td>\n",
       "      <td>0</td>\n",
       "      <td>0</td>\n",
       "      <td>0</td>\n",
       "      <td>...</td>\n",
       "      <td>NaN</td>\n",
       "      <td>NaN</td>\n",
       "      <td>NaN</td>\n",
       "      <td>4192111</td>\n",
       "      <td>Sedan</td>\n",
       "      <td>Sedan</td>\n",
       "      <td>NaN</td>\n",
       "      <td>NaN</td>\n",
       "      <td>NaN</td>\n",
       "      <td>1</td>\n",
       "    </tr>\n",
       "  </tbody>\n",
       "</table>\n",
       "<p>5 rows × 25 columns</p>\n",
       "</div>"
      ],
      "text/plain": [
       "         DATE   TIME   BOROUGH  ZIP CODE   LATITUDE  LONGITUDE  \\\n",
       "0  09/26/2018  12:12     BRONX   10454.0  40.808987 -73.911316   \n",
       "1  09/25/2018  16:30  BROOKLYN   11236.0  40.636005 -73.912510   \n",
       "2  08/22/2019  19:30    QUEENS   11101.0  40.755490 -73.939530   \n",
       "3  09/23/2018  13:10    QUEENS   11367.0        NaN        NaN   \n",
       "4  08/20/2019  22:40     BRONX   10468.0  40.868336 -73.901270   \n",
       "\n",
       "                     ON STREET NAME  NUMBER OF PEDESTRIANS INJURED  \\\n",
       "0                               NaN                              0   \n",
       "1  FLATLANDS AVENUE                                              1   \n",
       "2                               NaN                              0   \n",
       "3  MAIN STREET                                                   0   \n",
       "4                               NaN                              0   \n",
       "\n",
       "   NUMBER OF PEDESTRIANS KILLED  NUMBER OF CYCLIST INJURED  ...   \\\n",
       "0                             0                          0  ...    \n",
       "1                             0                          0  ...    \n",
       "2                             0                          0  ...    \n",
       "3                             0                          1  ...    \n",
       "4                             0                          0  ...    \n",
       "\n",
       "   CONTRIBUTING FACTOR VEHICLE 3  CONTRIBUTING FACTOR VEHICLE 4  \\\n",
       "0                            NaN                            NaN   \n",
       "1                            NaN                            NaN   \n",
       "2                            NaN                            NaN   \n",
       "3                            NaN                            NaN   \n",
       "4                            NaN                            NaN   \n",
       "\n",
       "   CONTRIBUTING FACTOR VEHICLE 5 COLLISION_ID VEHICLE TYPE CODE 1  \\\n",
       "0                            NaN      3988123               Sedan   \n",
       "1                            NaN      3987962               Sedan   \n",
       "2                            NaN      4193132               Sedan   \n",
       "3                            NaN      3985962                Bike   \n",
       "4                            NaN      4192111               Sedan   \n",
       "\n",
       "                   VEHICLE TYPE CODE 2 VEHICLE TYPE CODE 3  \\\n",
       "0                                  NaN                 NaN   \n",
       "1                                  NaN                 NaN   \n",
       "2                                  NaN                 NaN   \n",
       "3  Station Wagon/Sport Utility Vehicle                 NaN   \n",
       "4                                Sedan                 NaN   \n",
       "\n",
       "  VEHICLE TYPE CODE 4  VEHICLE TYPE CODE 5 COUNT  \n",
       "0                 NaN                  NaN     1  \n",
       "1                 NaN                  NaN     1  \n",
       "2                 NaN                  NaN     1  \n",
       "3                 NaN                  NaN     1  \n",
       "4                 NaN                  NaN     1  \n",
       "\n",
       "[5 rows x 25 columns]"
      ]
     },
     "execution_count": 5,
     "metadata": {},
     "output_type": "execute_result"
    }
   ],
   "source": [
    "adf.head()"
   ]
  },
  {
   "cell_type": "markdown",
   "metadata": {},
   "source": [
    "<p>We have the following columns</p>\n",
    "<ol>\n",
    "<li><strong>BOROUGH</strong>: The borough in which the accident occured</li>\n",
    "<li><strong>COLLISION_ID</strong>: A unique identifier for this collision</li>\n",
    "<li><strong>CONTRIBUTING FACTOR VEHICLE (1, 2, 3, 4, 5)</strong>: Reasons for the accident</li>\n",
    "<li><strong>CROSS STREET NAME</strong>: Nearest cross street to the place of accidents</li>\n",
    "<li><strong>DATE</strong>: Date of the accident</li>\n",
    "<li><strong>TIME</strong>: Time of accident</li>\n",
    "<li><strong>LATITUDE</strong>: Latitude of the accident</li>\n",
    "<li><strong>LONGITUDE</strong>: Longitude of the accident</li>\n",
    "<li><strong>NUMBER OF (CYCLISTS, MOTORISTS, PEDESTRIANS) INJURED</strong>: Category wise injury</li>\n",
    "<li><strong>NUMBER OF (CYCLISTS, MOTORISTS, PEDESTRIANS) KILLED</strong>: Category wise death</li>\n",
    "<li><strong>ON STREET NAME</strong>: Street where the accident occured</li>\n",
    "<li><strong>VEHICLE TYPE CODE (1, 2, 3, 4, 5)</strong>: Types of vehicles involved in the accident</li>\n",
    "<li><strong>ZIP CODE</strong>: zip code of the accident location</li>\n",
    "</ol>"
   ]
  },
  {
   "cell_type": "markdown",
   "metadata": {},
   "source": [
    "<h3>Exercise 1 :</h3>\n",
    "<p>Since 2014, New York City has been implementing a road safety plan named <a href=\"https://www1.nyc.gov/content/visionzero/pages/\">Vision Zero</a>. It aims to reduce the number of traffic deaths to <em>zero</em> by the end of 2024. The plan is creating new and enhancing current safety measures, some of these include:</p>\n",
    "<ul>\n",
    "<li>[ ] Automated pedestrian detection</li>\n",
    "<li>[ ] Road safety audits at high risk locations</li>\n",
    "<li>[ ] Expansion in the cycle track network</li>\n",
    "<li>[ ] Targeted education and awareness initiatives</li>\n",
    "<li>[ ] Creation of pedestrian refuge islands</li>\n",
    "<li>[ ] Launch Integrated Data-Driven Speed Reducer Program (speed humps &amp; speed cushions)</li>\n",
    "</ul>\n",
    "<p>Which of these initiatives could directly benefit from an analysis of the data provided? Check all that apply.</p>\n",
    "<p><strong>Note:</strong> You can create check marks by double-clicking this cell and adding an <code>[x]</code> in the corresponding lines. </p>"
   ]
  },
  {
   "cell_type": "markdown",
   "metadata": {
    "tags": [
     "ans_st"
    ]
   },
   "source": [
    "**Answer.**"
   ]
  },
  {
   "cell_type": "markdown",
   "metadata": {},
   "source": [
    "-------"
   ]
  },
  {
   "cell_type": "markdown",
   "metadata": {},
   "source": [
    "<p>Let's go ahead and answer each of the client's questions.</p>"
   ]
  },
  {
   "cell_type": "markdown",
   "metadata": {},
   "source": [
    "<h2>Answering the client's questions</h2>"
   ]
  },
  {
   "cell_type": "markdown",
   "metadata": {},
   "source": [
    "<h3>Exercise 2 :</h3>\n",
    "<p>Group the available data on a monthly basis and generate a line plot of accidents over time. Has the number of accidents increased over the past year and a half?</p>\n",
    "<p><strong>Hint</strong>: You may find the pandas functions <code>to_datetime()</code> and <code>dt.to_period()</code> useful.</p>"
   ]
  },
  {
   "cell_type": "markdown",
   "metadata": {
    "tags": [
     "ans_st"
    ]
   },
   "source": [
    "**Answer.**"
   ]
  },
  {
   "cell_type": "code",
   "execution_count": 6,
   "metadata": {},
   "outputs": [
    {
     "name": "stdout",
     "output_type": "stream",
     "text": [
      "            COUNT\n",
      "DATE             \n",
      "2018-01-31  11735\n",
      "2018-02-28  10395\n",
      "2018-03-31  12519\n",
      "2018-04-30  11679\n",
      "2018-05-31  13438\n",
      "2018-06-30  13314\n",
      "2018-07-31  12787\n",
      "2018-08-31  12644\n",
      "2018-09-30  12425\n",
      "2018-10-31  13336\n",
      "2018-11-30  12447\n",
      "2018-12-31  12479\n",
      "2019-01-31  11000\n",
      "2019-02-28  10310\n",
      "2019-03-31  11482\n",
      "2019-04-30  10833\n",
      "2019-05-31  12642\n",
      "2019-06-30  12577\n",
      "2019-07-31  12014\n",
      "2019-08-31   8466\n"
     ]
    },
    {
     "data": {
      "image/png": "[encoded data removed]",
      "text/plain": [
       "<Figure size 432x288 with 1 Axes>"
      ]
     },
     "metadata": {
      "needs_background": "light"
     },
     "output_type": "display_data"
    }
   ],
   "source": [
    "adf[\"DATE\"] = pd.to_datetime(adf[\"DATE\"], format=\"%m/%d/%Y\")\n",
    "temp2 = adf.copy()\n",
    "temp2['DATE'] = pd.to_datetime(temp2['DATE'])\n",
    "temp2.set_index('DATE',inplace=True)\n",
    "temp2.groupby(pd.Grouper(freq='M')).agg({'COUNT':'sum'}).plot()\n",
    "print(temp2.groupby(pd.Grouper(freq='M')).agg({'COUNT':'sum'}))"
   ]
  },
  {
   "cell_type": "markdown",
   "metadata": {},
   "source": [
    "The data shows that the accidents fluctate over the year, there is not evidence that could indicate that their number is decreasing."
   ]
  },
  {
   "cell_type": "markdown",
   "metadata": {},
   "source": [
    "<h3>Exercise 3 :</h3>\n",
    "<p>From the plot above, which months seem to have the least number of accidents? What do you think are the reasons behind this?</p>"
   ]
  },
  {
   "cell_type": "markdown",
   "metadata": {
    "tags": [
     "ans_st"
    ]
   },
   "source": [
    "**Answer.**"
   ]
  },
  {
   "cell_type": "markdown",
   "metadata": {},
   "source": [
    "February seems to be the month were the number of accidents is lower on both years, one reason may be the that it is one of the coldest month"
   ]
  },
  {
   "cell_type": "markdown",
   "metadata": {},
   "source": [
    "<h3>Exercise 4 :</h3>\n",
    "<p>How does the number of accidents vary throughout a single day? Create a new column <code>HOUR</code> based on the data from the <code>TIME</code> column, then plot a bar graph of the distribution per hour throughout the day.</p>\n",
    "<p><strong>Hint:</strong> You may find the function <code>dt.hour</code> useful. </p>"
   ]
  },
  {
   "cell_type": "markdown",
   "metadata": {
    "tags": [
     "ans_st"
    ]
   },
   "source": [
    "**Answer.**"
   ]
  },
  {
   "cell_type": "code",
   "execution_count": 7,
   "metadata": {},
   "outputs": [
    {
     "data": {
      "text/plain": [
       "<matplotlib.axes._subplots.AxesSubplot at 0x7ff323d099e8>"
      ]
     },
     "execution_count": 7,
     "metadata": {},
     "output_type": "execute_result"
    },
    {
     "data": {
      "image/png": "[encoded data removed]",
      "text/plain": [
       "<Figure size 432x288 with 1 Axes>"
      ]
     },
     "metadata": {
      "needs_background": "light"
     },
     "output_type": "display_data"
    }
   ],
   "source": [
    "adf[\"TIME\"] = pd.to_datetime(adf[\"TIME\"])\n",
    "temp3 = adf.copy()\n",
    "temp3[\"HOUR\"] = temp3[\"TIME\"].dt.hour\n",
    "#temp3.groupby(temp3[\"HOUR\"]).agg({'COUNT':'sum'}).unstack().plot.bar()\n",
    "temp3.groupby(temp3[\"HOUR\"])['COUNT'].sum().plot.bar()"
   ]
  },
  {
   "cell_type": "markdown",
   "metadata": {},
   "source": [
    "<p>From this, we see that more accidents occur in the afternoon (2 - 6 PM) than at other times of day.</p>"
   ]
  },
  {
   "cell_type": "markdown",
   "metadata": {},
   "source": [
    "<h3>Exercise 5 :</h3>\n",
    "<p>In the above question we have aggregated the number accidents per hour disregarding the date and place of ocurrence. Which criticism would you give to this approach?</p>"
   ]
  },
  {
   "cell_type": "markdown",
   "metadata": {
    "tags": [
     "ans_st"
    ]
   },
   "source": [
    "**Answer.**"
   ]
  },
  {
   "cell_type": "markdown",
   "metadata": {},
   "source": [
    "From the graphic we can see on general terms that aroung 4 pm most the accidents take place, the problem is that it is hard to see if that is strongly inflenced by a borough or a day of the week."
   ]
  },
  {
   "cell_type": "markdown",
   "metadata": {},
   "source": [
    "<h3>Exercise 6 :</h3>\n",
    "<p>How does the number of accidents vary throughout a single week? Plot a bar graph based on the accidents count by day of the week.</p>\n",
    "<p><strong>Hint:</strong> You may find the function <code>dt.weekday</code> useful.</p>"
   ]
  },
  {
   "cell_type": "markdown",
   "metadata": {
    "tags": [
     "ans_st"
    ]
   },
   "source": [
    "**Answer.**"
   ]
  },
  {
   "cell_type": "code",
   "execution_count": 8,
   "metadata": {},
   "outputs": [
    {
     "name": "stdout",
     "output_type": "stream",
     "text": [
      "WEEKDAY\n",
      "Friday       37886\n",
      "Monday       34719\n",
      "Saturday     31784\n",
      "Sunday       27040\n",
      "Thursday     36254\n",
      "Tuesday      35651\n",
      "Wednesday    35188\n",
      "dtype: int64\n"
     ]
    },
    {
     "data": {
      "text/plain": [
       "<matplotlib.axes._subplots.AxesSubplot at 0x7ff322e234e0>"
      ]
     },
     "execution_count": 8,
     "metadata": {},
     "output_type": "execute_result"
    },
    {
     "data": {
      "image/png": "[encoded data removed]",
      "text/plain": [
       "<Figure size 432x288 with 1 Axes>"
      ]
     },
     "metadata": {
      "needs_background": "light"
     },
     "output_type": "display_data"
    }
   ],
   "source": [
    "temp4 = adf.copy()\n",
    "temp4['WEEKDAY'] = temp4['DATE'].dt.weekday_name\n",
    "print(temp4.groupby('WEEKDAY').size())\n",
    "temp4.groupby(temp4[\"WEEKDAY\"])['COUNT'].sum().plot.bar()"
   ]
  },
  {
   "cell_type": "markdown",
   "metadata": {},
   "source": [
    "<h3>Exercise 7 :</h3>\n",
    "<p>Plot a bar graph of the total number of accidents in each borough, as well as one of the accidents per square mile per borough. What can you conclude?</p>\n",
    "<p><strong>Hint:</strong> You may want to update some of the keys in the borough dictionary to match the names in the dataframe. </p>"
   ]
  },
  {
   "cell_type": "markdown",
   "metadata": {
    "tags": [
     "ans_st"
    ]
   },
   "source": [
    "**Answer.**"
   ]
  },
  {
   "cell_type": "code",
   "execution_count": 84,
   "metadata": {},
   "outputs": [
    {
     "data": {
      "text/plain": [
       "<matplotlib.axes._subplots.AxesSubplot at 0x7ff2da7e44e0>"
      ]
     },
     "execution_count": 84,
     "metadata": {},
     "output_type": "execute_result"
    },
    {
     "data": {
      "image/png": "[encoded data removed]",
      "text/plain": [
       "<Figure size 432x288 with 1 Axes>"
      ]
     },
     "metadata": {
      "needs_background": "light"
     },
     "output_type": "display_data"
    }
   ],
   "source": [
    "temp4.groupby(temp4[\"BOROUGH\"])['COUNT'].sum().plot.bar()"
   ]
  },
  {
   "cell_type": "code",
   "execution_count": 93,
   "metadata": {},
   "outputs": [],
   "source": [
    "temp5 = adf.copy()\n",
    "temp5['BOROUGH'] = temp5['BOROUGH'].str.lower()\n",
    "bdf1 = bdf.copy()\n",
    "bdf1 = bdf1.replace(\"the bronx\", 'bronx')\n",
    "bdf1['bronx'] = bdf1['the bronx']\n",
    "bdf1 = bdf1.drop(['the bronx'], axis=1) \n",
    "temp5['A'] = [bdf1[x]['area'] for x in temp5['BOROUGH']]\n"
   ]
  },
  {
   "cell_type": "code",
   "execution_count": 94,
   "metadata": {},
   "outputs": [
    {
     "name": "stdout",
     "output_type": "stream",
     "text": [
      "         BOROUGH       A  COUNT            R\n",
      "0          bronx   42.10  37709   895.700713\n",
      "1       brooklyn   70.82  76253  1076.715617\n",
      "2      manhattan   22.83  48749  2135.304424\n",
      "3         queens  108.53  67120   618.446512\n",
      "4  staten island   58.37   8691   148.894980\n"
     ]
    },
    {
     "data": {
      "image/png": "[encoded data removed]",
      "text/plain": [
       "<Figure size 432x288 with 1 Axes>"
      ]
     },
     "metadata": {
      "needs_background": "light"
     },
     "output_type": "display_data"
    }
   ],
   "source": [
    "temp6 = temp5.groupby([temp5[\"BOROUGH\"],temp5['A']])['COUNT'].sum().transpose().reset_index()\n",
    "temp6['R'] = temp6['COUNT']/temp6['A']\n",
    "print(temp6)\n",
    "ax = sns.barplot(x=\"BOROUGH\", y=\"R\", data=temp6)"
   ]
  },
  {
   "cell_type": "markdown",
   "metadata": {},
   "source": [
    "We can see that manhattan does not have a really high number of accidents, but when taking into consideration its size, then that number is a sign of trouble."
   ]
  },
  {
   "cell_type": "markdown",
   "metadata": {},
   "source": [
    "<h3>Exercise 8 :</h3>\n",
    "<p>Which hours have the most accidents for each borough? Plot a bar graph for each borough showing the number of accidents for each hour of the day.</p>\n",
    "<p><strong>Hint:</strong> You can use <code>sns.FacetGrid</code> to create a grid of plots with the hourly data of each borough. </p>"
   ]
  },
  {
   "cell_type": "markdown",
   "metadata": {
    "tags": [
     "ans_st"
    ]
   },
   "source": [
    "**Answer.**"
   ]
  },
  {
   "cell_type": "code",
   "execution_count": 106,
   "metadata": {},
   "outputs": [
    {
     "name": "stdout",
     "output_type": "stream",
     "text": [
      "           BOROUGH  HOUR  COUNT\n",
      "0            BRONX     0   1329\n",
      "1            BRONX     1    529\n",
      "2            BRONX     2    402\n",
      "3            BRONX     3    361\n",
      "4            BRONX     4    418\n",
      "5            BRONX     5    508\n",
      "6            BRONX     6    835\n",
      "7            BRONX     7   1406\n",
      "8            BRONX     8   2341\n",
      "9            BRONX     9   2162\n",
      "10           BRONX    10   1733\n",
      "11           BRONX    11   1891\n",
      "12           BRONX    12   2121\n",
      "13           BRONX    13   2163\n",
      "14           BRONX    14   2576\n",
      "15           BRONX    15   2616\n",
      "16           BRONX    16   2952\n",
      "17           BRONX    17   2690\n",
      "18           BRONX    18   2323\n",
      "19           BRONX    19   1834\n",
      "20           BRONX    20   1450\n",
      "21           BRONX    21   1204\n",
      "22           BRONX    22   1032\n",
      "23           BRONX    23    833\n",
      "24        BROOKLYN     0   2635\n",
      "25        BROOKLYN     1   1021\n",
      "26        BROOKLYN     2    738\n",
      "27        BROOKLYN     3    666\n",
      "28        BROOKLYN     4    728\n",
      "29        BROOKLYN     5    842\n",
      "..             ...   ...    ...\n",
      "90          QUEENS    18   4350\n",
      "91          QUEENS    19   3534\n",
      "92          QUEENS    20   2704\n",
      "93          QUEENS    21   2385\n",
      "94          QUEENS    22   1990\n",
      "95          QUEENS    23   1528\n",
      "96   STATEN ISLAND     0    200\n",
      "97   STATEN ISLAND     1     95\n",
      "98   STATEN ISLAND     2     78\n",
      "99   STATEN ISLAND     3     65\n",
      "100  STATEN ISLAND     4     68\n",
      "101  STATEN ISLAND     5     71\n",
      "102  STATEN ISLAND     6    152\n",
      "103  STATEN ISLAND     7    241\n",
      "104  STATEN ISLAND     8    479\n",
      "105  STATEN ISLAND     9    427\n",
      "106  STATEN ISLAND    10    433\n",
      "107  STATEN ISLAND    11    454\n",
      "108  STATEN ISLAND    12    527\n",
      "109  STATEN ISLAND    13    567\n",
      "110  STATEN ISLAND    14    712\n",
      "111  STATEN ISLAND    15    596\n",
      "112  STATEN ISLAND    16    775\n",
      "113  STATEN ISLAND    17    698\n",
      "114  STATEN ISLAND    18    605\n",
      "115  STATEN ISLAND    19    415\n",
      "116  STATEN ISLAND    20    367\n",
      "117  STATEN ISLAND    21    268\n",
      "118  STATEN ISLAND    22    224\n",
      "119  STATEN ISLAND    23    174\n",
      "\n",
      "[120 rows x 3 columns]\n"
     ]
    }
   ],
   "source": [
    "temp8 = adf.copy()\n",
    "temp8[\"HOUR\"] = temp3[\"TIME\"].dt.hour\n",
    "temp9 = temp8.groupby([temp8[\"BOROUGH\"],temp8[\"HOUR\"]])['COUNT'].sum().reset_index()\n",
    "print(temp9)\n",
    "#g = sns.FacetGrid(temp8, col=\"time\",  row=\"smoker\")\n",
    "#g = g.map(plt.hist, \"total_bill\")"
   ]
  },
  {
   "cell_type": "markdown",
   "metadata": {},
   "source": [
    "<p><strong>Is the number of accidents higher at different times in different boroughs? Should we concentrate at different times for each borough?</strong></p>"
   ]
  },
  {
   "cell_type": "markdown",
   "metadata": {},
   "source": [
    "<p>We can see that in all the boroughs the accident count is highest from approximately 2 - 6PM. But in Manhattan and the Bronx, you can see that there is not as much of a relative increase during these hours as in Brooklyn or Queens. Additionally, Staten Island has the lowest overall number of accidents.</p>"
   ]
  },
  {
   "cell_type": "markdown",
   "metadata": {},
   "source": [
    "<h3>Exercise 9 :</h3>\n",
    "<p>What factors cause the most accidents? Avoid double counting the contributing factors of a single accident. </p>\n",
    "<p><strong>Hint:</strong> One way of dealing with repetitions is to concatenate the corresponding columns while preserving their indexes, you can do that with the functions <code>pd.concat()</code> and  <code>reset_index()</code>. Then, use an appropiate <code>group_by</code> to count the number of repetitions of contributed factors per accident.   </p>"
   ]
  },
  {
   "cell_type": "markdown",
   "metadata": {
    "tags": [
     "ans_st"
    ]
   },
   "source": [
    "**Answer.**"
   ]
  },
  {
   "cell_type": "markdown",
   "metadata": {},
   "source": [
    "-------"
   ]
  },
  {
   "cell_type": "markdown",
   "metadata": {},
   "source": [
    "<h3>Exercise 10 :</h3>\n",
    "<p>Which vehicle types are most involved in accidents per borough? Avoid double counting the type of vehicles present in a single accident. </p>\n",
    "<p><strong>Hint:</strong> You can apply a similar approach to the one used in the previous question.</p>"
   ]
  },
  {
   "cell_type": "markdown",
   "metadata": {
    "tags": [
     "ans_st"
    ]
   },
   "source": [
    "**Answer.**"
   ]
  },
  {
   "cell_type": "markdown",
   "metadata": {},
   "source": [
    "-------"
   ]
  },
  {
   "cell_type": "markdown",
   "metadata": {},
   "source": [
    "<h3>Exercise 11 :</h3>\n",
    "<p>In a 2018 <a href=\"https://www.nytimes.com/2019/01/01/nyregion/traffic-deaths-decrease-nyc.html\">interview</a> with The New York Times, New York's mayor de Blasio stated that <em>'Vision Zero is clearly working'</em>. That year, the number of deaths in traffic accidents in NYC dropped to a historical 202. Yet, as reported by <a href=\"https://www.amny.com/news/vision-zero-de-blasio-1-30707464/\">am New York Metro</a>, the number of fatalities has increased by 30% in the first quarter of 2019 compared to the previous year and the number of pedestrians and cyclist injured has not seen any improvement.</p>\n",
    "<p>How would you use the provided data to understand what went wrong in the first quarter of 2019?</p>\n",
    "<blockquote>\n",
    "<ul>\n",
    "<li>\n",
    "<p>[ ] Consider the accidents of the first quarter of 2019. Then, check for the most common causes of accidents where pedestrians and cyclists were involved. Give a recommendation based solely on this information. </p>\n",
    "</li>\n",
    "<li>\n",
    "<p>[ ] Create a pair of heatmaps of the accidents involving injured/killed pedestrians and cyclists in the first quarter of 2018 and 2019. Compare these two to see if there is any change in the concentration of accidents. In critical areas, study the type of factors involved in the accidents. Give a recommendation to visit these areas to study the problem further.    </p>\n",
    "</li>\n",
    "<li>\n",
    "<p>[ ] The provided data is insufficient to improve our understanding of the situation.</p>\n",
    "</li>\n",
    "<li>\n",
    "<p>[ ] None of the above. I would do the following: <em>here your recommended answer</em>.</p>\n",
    "</li>\n",
    "</ul>\n",
    "</blockquote>"
   ]
  },
  {
   "cell_type": "markdown",
   "metadata": {
    "tags": [
     "ans_st"
    ]
   },
   "source": [
    "**Answer.**"
   ]
  },
  {
   "cell_type": "markdown",
   "metadata": {},
   "source": [
    "-------"
   ]
  },
  {
   "cell_type": "markdown",
   "metadata": {},
   "source": [
    "<h3>Exercise 12 :</h3>\n",
    "<p>Calculate the number of deaths caused by each type of vehicle. Plot a bar chart for the top 5 vehicles. Which vehicles are most often involved in deaths, and by how much more than the others?</p>\n",
    "<p><strong>For example,</strong> if two people died at an accident where 5 vehicles were involved: 4 are PASSENGER VEHICLE and 1 is a SPORT UTILITY/STATION WAGON. Then, we would add two deaths to each PASSENGER VEHICLE and SPORT UTILITY/STATION WAGON types.</p>\n",
    "<p><strong>Hint:</strong> You may want to create a new column with the total number of kills in the accident. For that you may find the function <code>.to_numpy()</code> useful. Then, proceed as the previous excercises to avoid double-counting the type of vehicles. </p>"
   ]
  },
  {
   "cell_type": "markdown",
   "metadata": {
    "tags": [
     "ans_st"
    ]
   },
   "source": [
    "**Answer.**"
   ]
  },
  {
   "cell_type": "markdown",
   "metadata": {},
   "source": [
    "-------"
   ]
  }
 ],
 "metadata": {
  "kernelspec": {
   "display_name": "Python 3",
   "language": "python",
   "name": "python3"
  },
  "language_info": {
   "codemirror_mode": {
    "name": "ipython",
    "version": 3
   },
   "file_extension": ".py",
   "mimetype": "text/x-python",
   "name": "python",
   "nbconvert_exporter": "python",
   "pygments_lexer": "ipython3",
   "version": "3.6.7"
  }
 },
 "nbformat": 4,
 "nbformat_minor": 2
}
