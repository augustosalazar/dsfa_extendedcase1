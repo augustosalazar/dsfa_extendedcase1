{
 "cells": [
  {
   "cell_type": "markdown",
   "metadata": {},
   "source": [
    "<h1>How can we control the increasing number of accidents in New York?</h1>"
   ]
  },
  {
   "cell_type": "code",
   "execution_count": 1,
   "metadata": {},
   "outputs": [],
   "source": [
    "import json\n",
    "import requests\n",
    "from bs4 import BeautifulSoup\n",
    "import pandas as pd\n",
    "import matplotlib.pyplot as plt\n",
    "import seaborn as sns\n",
    "import numpy as np"
   ]
  },
  {
   "cell_type": "markdown",
   "metadata": {},
   "source": [
    "<h2>Introduction</h2>"
   ]
  },
  {
   "cell_type": "markdown",
   "metadata": {},
   "source": [
    "<p><strong>Business Context.</strong> The city of New York has seen a rise in the number of accidents on the roads in the city. They would like to know if the number of accidents have increased in the last few weeks. For all the reported accidents, they have collected details for each accident and have been maintaining records for the past year and a half (from January 2018 to August 2019). </p>\n",
    "<p>The city has contracted you to build visualizations that would help them identify patterns in accidents, which would help them take preventive actions to reduce the number of accidents in the future. They have certain parameters like borough, time of day, reason for accident, etc. Which they care about and which they would like to get specific information on.</p>"
   ]
  },
  {
   "cell_type": "markdown",
   "metadata": {},
   "source": [
    "<p><strong>Business Problem.</strong> Your task is to format the given data and provide visualizations that would answer the specific questions the client has, which are mentioned below.</p>"
   ]
  },
  {
   "cell_type": "markdown",
   "metadata": {},
   "source": [
    "<p><strong>Analytical Context.</strong> You are given a CSV file (stored in the already created <code>data</code> folder) containing details about each accident like date, time, location of the accident, reason for the accident, types of vehicles involved, injury and death count, etc. The delimiter in the given CSV file is <code>;</code> instead of the default <code>,</code>. You will be performing the following tasks on the data:</p>\n",
    "<ol>\n",
    "<li>Extract additional borough data stored in a JSON file</li>\n",
    "<li>Read, transform, and prepare data for visualization</li>\n",
    "<li>Perform analytics and construct visualizations of the data to identify patterns in the dataset</li>\n",
    "</ol>\n",
    "<p>The client has a specific set of questions they would like to get answers to. You will need to provide visualizations to accompany these:</p>\n",
    "<ol>\n",
    "<li>How have the number of accidents fluctuated over the past year and a half? Have they increased over the time?</li>\n",
    "<li>For any particular day, during which hours are accidents most likely to occur?</li>\n",
    "<li>Are there more accidents on weekdays than weekends?</li>\n",
    "<li>What are the accidents count-to-area ratio per borough? Which boroughs have disproportionately large numbers of accidents for their size?</li>\n",
    "<li>For each borough, during which hours are accidents most likely to occur?</li>\n",
    "<li>What are the top 5 causes of accidents in the city? </li>\n",
    "<li>What types of vehicles are most involved in accidents per borough?</li>\n",
    "<li>What types of vehicles are most involved in deaths?</li>\n",
    "</ol>"
   ]
  },
  {
   "cell_type": "markdown",
   "metadata": {},
   "source": [
    "<h2>Fetching the relevant data</h2>"
   ]
  },
  {
   "cell_type": "markdown",
   "metadata": {},
   "source": [
    "<p>The client has requested analysis of the accidents-to-area ratio for boroughs. Borough data is stored in a JSON file in the <code>data</code> folder.</p>"
   ]
  },
  {
   "cell_type": "markdown",
   "metadata": {},
   "source": [
    "<h3>Question :</h3>\n",
    "<p>Use the function <code>json.load()</code> to load the file <code>borough_data.json</code> as a dictionary.</p>"
   ]
  },
  {
   "cell_type": "markdown",
   "metadata": {
    "tags": [
     "ans_st"
    ]
   },
   "source": [
    "**Answer.**"
   ]
  },
  {
   "cell_type": "code",
   "execution_count": 2,
   "metadata": {},
   "outputs": [
    {
     "data": {
      "text/html": [
       "<div>\n",
       "<style scoped>\n",
       "    .dataframe tbody tr th:only-of-type {\n",
       "        vertical-align: middle;\n",
       "    }\n",
       "\n",
       "    .dataframe tbody tr th {\n",
       "        vertical-align: top;\n",
       "    }\n",
       "\n",
       "    .dataframe thead th {\n",
       "        text-align: right;\n",
       "    }\n",
       "</style>\n",
       "<table border=\"1\" class=\"dataframe\">\n",
       "  <thead>\n",
       "    <tr style=\"text-align: right;\">\n",
       "      <th></th>\n",
       "      <th>the bronx</th>\n",
       "      <th>brooklyn</th>\n",
       "      <th>manhattan</th>\n",
       "      <th>queens</th>\n",
       "      <th>staten island</th>\n",
       "    </tr>\n",
       "  </thead>\n",
       "  <tbody>\n",
       "    <tr>\n",
       "      <th>area</th>\n",
       "      <td>42.1</td>\n",
       "      <td>70.82</td>\n",
       "      <td>22.83</td>\n",
       "      <td>108.53</td>\n",
       "      <td>58.37</td>\n",
       "    </tr>\n",
       "    <tr>\n",
       "      <th>name</th>\n",
       "      <td>the bronx</td>\n",
       "      <td>brooklyn</td>\n",
       "      <td>manhattan</td>\n",
       "      <td>queens</td>\n",
       "      <td>staten island</td>\n",
       "    </tr>\n",
       "    <tr>\n",
       "      <th>population</th>\n",
       "      <td>1.47116e+06</td>\n",
       "      <td>2.64877e+06</td>\n",
       "      <td>1.66473e+06</td>\n",
       "      <td>2.35858e+06</td>\n",
       "      <td>479458</td>\n",
       "    </tr>\n",
       "  </tbody>\n",
       "</table>\n",
       "</div>"
      ],
      "text/plain": [
       "              the bronx     brooklyn    manhattan       queens  staten island\n",
       "area               42.1        70.82        22.83       108.53          58.37\n",
       "name          the bronx     brooklyn    manhattan       queens  staten island\n",
       "population  1.47116e+06  2.64877e+06  1.66473e+06  2.35858e+06         479458"
      ]
     },
     "execution_count": 2,
     "metadata": {},
     "output_type": "execute_result"
    }
   ],
   "source": [
    "bdf = pd.read_json(\"data/borough_data.json\")\n",
    "bdf"
   ]
  },
  {
   "cell_type": "markdown",
   "metadata": {},
   "source": [
    "<h3>Question :</h3>\n",
    "<p>Similarly, use the pandas function <code>read_csv()</code> to load the file <code>accidents.csv</code> as a DataFrame. Name this DataFrame <code>df</code>. </p>"
   ]
  },
  {
   "cell_type": "markdown",
   "metadata": {
    "tags": [
     "ans_st"
    ]
   },
   "source": [
    "**Answer.**"
   ]
  },
  {
   "cell_type": "code",
   "execution_count": 3,
   "metadata": {},
   "outputs": [
    {
     "data": {
      "text/plain": [
       "Index(['DATE', 'TIME', 'BOROUGH', 'ZIP CODE', 'LATITUDE', 'LONGITUDE',\n",
       "       'ON STREET NAME', 'NUMBER OF PEDESTRIANS INJURED',\n",
       "       'NUMBER OF PEDESTRIANS KILLED', 'NUMBER OF CYCLIST INJURED',\n",
       "       'NUMBER OF CYCLIST KILLED', 'NUMBER OF MOTORIST INJURED',\n",
       "       'NUMBER OF MOTORIST KILLED', 'CONTRIBUTING FACTOR VEHICLE 1',\n",
       "       'CONTRIBUTING FACTOR VEHICLE 2', 'CONTRIBUTING FACTOR VEHICLE 3',\n",
       "       'CONTRIBUTING FACTOR VEHICLE 4', 'CONTRIBUTING FACTOR VEHICLE 5',\n",
       "       'COLLISION_ID', 'VEHICLE TYPE CODE 1', 'VEHICLE TYPE CODE 2',\n",
       "       'VEHICLE TYPE CODE 3', 'VEHICLE TYPE CODE 4', 'VEHICLE TYPE CODE 5',\n",
       "       'COUNT'],\n",
       "      dtype='object')"
      ]
     },
     "execution_count": 3,
     "metadata": {},
     "output_type": "execute_result"
    }
   ],
   "source": [
    "adf = pd.read_csv(\"data/accidents.csv\",sep = \";\")\n",
    "adf['COUNT'] = 1\n",
    "adf.columns"
   ]
  },
  {
   "cell_type": "markdown",
   "metadata": {},
   "source": [
    "<h2>Overview of the data</h2>"
   ]
  },
  {
   "cell_type": "markdown",
   "metadata": {},
   "source": [
    "<p>Let's go through the columns present in the dataframe:</p>"
   ]
  },
  {
   "cell_type": "code",
   "execution_count": 4,
   "metadata": {},
   "outputs": [
    {
     "data": {
      "text/plain": [
       "Index(['DATE', 'TIME', 'BOROUGH', 'ZIP CODE', 'LATITUDE', 'LONGITUDE',\n",
       "       'ON STREET NAME', 'NUMBER OF PEDESTRIANS INJURED',\n",
       "       'NUMBER OF PEDESTRIANS KILLED', 'NUMBER OF CYCLIST INJURED',\n",
       "       'NUMBER OF CYCLIST KILLED', 'NUMBER OF MOTORIST INJURED',\n",
       "       'NUMBER OF MOTORIST KILLED', 'CONTRIBUTING FACTOR VEHICLE 1',\n",
       "       'CONTRIBUTING FACTOR VEHICLE 2', 'CONTRIBUTING FACTOR VEHICLE 3',\n",
       "       'CONTRIBUTING FACTOR VEHICLE 4', 'CONTRIBUTING FACTOR VEHICLE 5',\n",
       "       'COLLISION_ID', 'VEHICLE TYPE CODE 1', 'VEHICLE TYPE CODE 2',\n",
       "       'VEHICLE TYPE CODE 3', 'VEHICLE TYPE CODE 4', 'VEHICLE TYPE CODE 5',\n",
       "       'COUNT'],\n",
       "      dtype='object')"
      ]
     },
     "execution_count": 4,
     "metadata": {},
     "output_type": "execute_result"
    }
   ],
   "source": [
    "adf.columns"
   ]
  },
  {
   "cell_type": "code",
   "execution_count": 5,
   "metadata": {},
   "outputs": [
    {
     "data": {
      "text/html": [
       "<div>\n",
       "<style scoped>\n",
       "    .dataframe tbody tr th:only-of-type {\n",
       "        vertical-align: middle;\n",
       "    }\n",
       "\n",
       "    .dataframe tbody tr th {\n",
       "        vertical-align: top;\n",
       "    }\n",
       "\n",
       "    .dataframe thead th {\n",
       "        text-align: right;\n",
       "    }\n",
       "</style>\n",
       "<table border=\"1\" class=\"dataframe\">\n",
       "  <thead>\n",
       "    <tr style=\"text-align: right;\">\n",
       "      <th></th>\n",
       "      <th>DATE</th>\n",
       "      <th>TIME</th>\n",
       "      <th>BOROUGH</th>\n",
       "      <th>ZIP CODE</th>\n",
       "      <th>LATITUDE</th>\n",
       "      <th>LONGITUDE</th>\n",
       "      <th>ON STREET NAME</th>\n",
       "      <th>NUMBER OF PEDESTRIANS INJURED</th>\n",
       "      <th>NUMBER OF PEDESTRIANS KILLED</th>\n",
       "      <th>NUMBER OF CYCLIST INJURED</th>\n",
       "      <th>...</th>\n",
       "      <th>CONTRIBUTING FACTOR VEHICLE 3</th>\n",
       "      <th>CONTRIBUTING FACTOR VEHICLE 4</th>\n",
       "      <th>CONTRIBUTING FACTOR VEHICLE 5</th>\n",
       "      <th>COLLISION_ID</th>\n",
       "      <th>VEHICLE TYPE CODE 1</th>\n",
       "      <th>VEHICLE TYPE CODE 2</th>\n",
       "      <th>VEHICLE TYPE CODE 3</th>\n",
       "      <th>VEHICLE TYPE CODE 4</th>\n",
       "      <th>VEHICLE TYPE CODE 5</th>\n",
       "      <th>COUNT</th>\n",
       "    </tr>\n",
       "  </thead>\n",
       "  <tbody>\n",
       "    <tr>\n",
       "      <th>0</th>\n",
       "      <td>09/26/2018</td>\n",
       "      <td>12:12</td>\n",
       "      <td>BRONX</td>\n",
       "      <td>10454.0</td>\n",
       "      <td>40.808987</td>\n",
       "      <td>-73.911316</td>\n",
       "      <td>NaN</td>\n",
       "      <td>0</td>\n",
       "      <td>0</td>\n",
       "      <td>0</td>\n",
       "      <td>...</td>\n",
       "      <td>NaN</td>\n",
       "      <td>NaN</td>\n",
       "      <td>NaN</td>\n",
       "      <td>3988123</td>\n",
       "      <td>Sedan</td>\n",
       "      <td>NaN</td>\n",
       "      <td>NaN</td>\n",
       "      <td>NaN</td>\n",
       "      <td>NaN</td>\n",
       "      <td>1</td>\n",
       "    </tr>\n",
       "    <tr>\n",
       "      <th>1</th>\n",
       "      <td>09/25/2018</td>\n",
       "      <td>16:30</td>\n",
       "      <td>BROOKLYN</td>\n",
       "      <td>11236.0</td>\n",
       "      <td>40.636005</td>\n",
       "      <td>-73.912510</td>\n",
       "      <td>FLATLANDS AVENUE</td>\n",
       "      <td>1</td>\n",
       "      <td>0</td>\n",
       "      <td>0</td>\n",
       "      <td>...</td>\n",
       "      <td>NaN</td>\n",
       "      <td>NaN</td>\n",
       "      <td>NaN</td>\n",
       "      <td>3987962</td>\n",
       "      <td>Sedan</td>\n",
       "      <td>NaN</td>\n",
       "      <td>NaN</td>\n",
       "      <td>NaN</td>\n",
       "      <td>NaN</td>\n",
       "      <td>1</td>\n",
       "    </tr>\n",
       "    <tr>\n",
       "      <th>2</th>\n",
       "      <td>08/22/2019</td>\n",
       "      <td>19:30</td>\n",
       "      <td>QUEENS</td>\n",
       "      <td>11101.0</td>\n",
       "      <td>40.755490</td>\n",
       "      <td>-73.939530</td>\n",
       "      <td>NaN</td>\n",
       "      <td>0</td>\n",
       "      <td>0</td>\n",
       "      <td>0</td>\n",
       "      <td>...</td>\n",
       "      <td>NaN</td>\n",
       "      <td>NaN</td>\n",
       "      <td>NaN</td>\n",
       "      <td>4193132</td>\n",
       "      <td>Sedan</td>\n",
       "      <td>NaN</td>\n",
       "      <td>NaN</td>\n",
       "      <td>NaN</td>\n",
       "      <td>NaN</td>\n",
       "      <td>1</td>\n",
       "    </tr>\n",
       "    <tr>\n",
       "      <th>3</th>\n",
       "      <td>09/23/2018</td>\n",
       "      <td>13:10</td>\n",
       "      <td>QUEENS</td>\n",
       "      <td>11367.0</td>\n",
       "      <td>NaN</td>\n",
       "      <td>NaN</td>\n",
       "      <td>MAIN STREET</td>\n",
       "      <td>0</td>\n",
       "      <td>0</td>\n",
       "      <td>1</td>\n",
       "      <td>...</td>\n",
       "      <td>NaN</td>\n",
       "      <td>NaN</td>\n",
       "      <td>NaN</td>\n",
       "      <td>3985962</td>\n",
       "      <td>Bike</td>\n",
       "      <td>Station Wagon/Sport Utility Vehicle</td>\n",
       "      <td>NaN</td>\n",
       "      <td>NaN</td>\n",
       "      <td>NaN</td>\n",
       "      <td>1</td>\n",
       "    </tr>\n",
       "    <tr>\n",
       "      <th>4</th>\n",
       "      <td>08/20/2019</td>\n",
       "      <td>22:40</td>\n",
       "      <td>BRONX</td>\n",
       "      <td>10468.0</td>\n",
       "      <td>40.868336</td>\n",
       "      <td>-73.901270</td>\n",
       "      <td>NaN</td>\n",
       "      <td>0</td>\n",
       "      <td>0</td>\n",
       "      <td>0</td>\n",
       "      <td>...</td>\n",
       "      <td>NaN</td>\n",
       "      <td>NaN</td>\n",
       "      <td>NaN</td>\n",
       "      <td>4192111</td>\n",
       "      <td>Sedan</td>\n",
       "      <td>Sedan</td>\n",
       "      <td>NaN</td>\n",
       "      <td>NaN</td>\n",
       "      <td>NaN</td>\n",
       "      <td>1</td>\n",
       "    </tr>\n",
       "  </tbody>\n",
       "</table>\n",
       "<p>5 rows × 25 columns</p>\n",
       "</div>"
      ],
      "text/plain": [
       "         DATE   TIME   BOROUGH  ZIP CODE   LATITUDE  LONGITUDE  \\\n",
       "0  09/26/2018  12:12     BRONX   10454.0  40.808987 -73.911316   \n",
       "1  09/25/2018  16:30  BROOKLYN   11236.0  40.636005 -73.912510   \n",
       "2  08/22/2019  19:30    QUEENS   11101.0  40.755490 -73.939530   \n",
       "3  09/23/2018  13:10    QUEENS   11367.0        NaN        NaN   \n",
       "4  08/20/2019  22:40     BRONX   10468.0  40.868336 -73.901270   \n",
       "\n",
       "                     ON STREET NAME  NUMBER OF PEDESTRIANS INJURED  \\\n",
       "0                               NaN                              0   \n",
       "1  FLATLANDS AVENUE                                              1   \n",
       "2                               NaN                              0   \n",
       "3  MAIN STREET                                                   0   \n",
       "4                               NaN                              0   \n",
       "\n",
       "   NUMBER OF PEDESTRIANS KILLED  NUMBER OF CYCLIST INJURED  ...   \\\n",
       "0                             0                          0  ...    \n",
       "1                             0                          0  ...    \n",
       "2                             0                          0  ...    \n",
       "3                             0                          1  ...    \n",
       "4                             0                          0  ...    \n",
       "\n",
       "   CONTRIBUTING FACTOR VEHICLE 3  CONTRIBUTING FACTOR VEHICLE 4  \\\n",
       "0                            NaN                            NaN   \n",
       "1                            NaN                            NaN   \n",
       "2                            NaN                            NaN   \n",
       "3                            NaN                            NaN   \n",
       "4                            NaN                            NaN   \n",
       "\n",
       "   CONTRIBUTING FACTOR VEHICLE 5 COLLISION_ID VEHICLE TYPE CODE 1  \\\n",
       "0                            NaN      3988123               Sedan   \n",
       "1                            NaN      3987962               Sedan   \n",
       "2                            NaN      4193132               Sedan   \n",
       "3                            NaN      3985962                Bike   \n",
       "4                            NaN      4192111               Sedan   \n",
       "\n",
       "                   VEHICLE TYPE CODE 2 VEHICLE TYPE CODE 3  \\\n",
       "0                                  NaN                 NaN   \n",
       "1                                  NaN                 NaN   \n",
       "2                                  NaN                 NaN   \n",
       "3  Station Wagon/Sport Utility Vehicle                 NaN   \n",
       "4                                Sedan                 NaN   \n",
       "\n",
       "  VEHICLE TYPE CODE 4  VEHICLE TYPE CODE 5 COUNT  \n",
       "0                 NaN                  NaN     1  \n",
       "1                 NaN                  NaN     1  \n",
       "2                 NaN                  NaN     1  \n",
       "3                 NaN                  NaN     1  \n",
       "4                 NaN                  NaN     1  \n",
       "\n",
       "[5 rows x 25 columns]"
      ]
     },
     "execution_count": 5,
     "metadata": {},
     "output_type": "execute_result"
    }
   ],
   "source": [
    "adf.head()"
   ]
  },
  {
   "cell_type": "markdown",
   "metadata": {},
   "source": [
    "<p>We have the following columns</p>\n",
    "<ol>\n",
    "<li><strong>BOROUGH</strong>: The borough in which the accident occured</li>\n",
    "<li><strong>COLLISION_ID</strong>: A unique identifier for this collision</li>\n",
    "<li><strong>CONTRIBUTING FACTOR VEHICLE (1, 2, 3, 4, 5)</strong>: Reasons for the accident</li>\n",
    "<li><strong>CROSS STREET NAME</strong>: Nearest cross street to the place of accidents</li>\n",
    "<li><strong>DATE</strong>: Date of the accident</li>\n",
    "<li><strong>TIME</strong>: Time of accident</li>\n",
    "<li><strong>LATITUDE</strong>: Latitude of the accident</li>\n",
    "<li><strong>LONGITUDE</strong>: Longitude of the accident</li>\n",
    "<li><strong>NUMBER OF (CYCLISTS, MOTORISTS, PEDESTRIANS) INJURED</strong>: Category wise injury</li>\n",
    "<li><strong>NUMBER OF (CYCLISTS, MOTORISTS, PEDESTRIANS) KILLED</strong>: Category wise death</li>\n",
    "<li><strong>ON STREET NAME</strong>: Street where the accident occured</li>\n",
    "<li><strong>VEHICLE TYPE CODE (1, 2, 3, 4, 5)</strong>: Types of vehicles involved in the accident</li>\n",
    "<li><strong>ZIP CODE</strong>: zip code of the accident location</li>\n",
    "</ol>"
   ]
  },
  {
   "cell_type": "markdown",
   "metadata": {},
   "source": [
    "<h3>Exercise 1 :</h3>\n",
    "<p>Since 2014, New York City has been implementing a road safety plan named <a href=\"https://www1.nyc.gov/content/visionzero/pages/\">Vision Zero</a>. It aims to reduce the number of traffic deaths to <em>zero</em> by the end of 2024. The plan is creating new and enhancing current safety measures, some of these include:</p>\n",
    "<ul>\n",
    "<li>[ ] Automated pedestrian detection</li>\n",
    "<li>[ ] Road safety audits at high risk locations</li>\n",
    "<li>[ ] Expansion in the cycle track network</li>\n",
    "<li>[ ] Targeted education and awareness initiatives</li>\n",
    "<li>[ ] Creation of pedestrian refuge islands</li>\n",
    "<li>[ ] Launch Integrated Data-Driven Speed Reducer Program (speed humps &amp; speed cushions)</li>\n",
    "</ul>\n",
    "<p>Which of these initiatives could directly benefit from an analysis of the data provided? Check all that apply.</p>\n",
    "<p><strong>Note:</strong> You can create check marks by double-clicking this cell and adding an <code>[x]</code> in the corresponding lines. </p>"
   ]
  },
  {
   "cell_type": "markdown",
   "metadata": {
    "tags": [
     "ans_st"
    ]
   },
   "source": [
    "**Answer.**"
   ]
  },
  {
   "cell_type": "markdown",
   "metadata": {},
   "source": [
    "-------"
   ]
  },
  {
   "cell_type": "markdown",
   "metadata": {},
   "source": [
    "<p>Let's go ahead and answer each of the client's questions.</p>"
   ]
  },
  {
   "cell_type": "markdown",
   "metadata": {},
   "source": [
    "<h2>Answering the client's questions</h2>"
   ]
  },
  {
   "cell_type": "markdown",
   "metadata": {},
   "source": [
    "<h3>Exercise 2 :</h3>\n",
    "<p>Group the available data on a monthly basis and generate a line plot of accidents over time. Has the number of accidents increased over the past year and a half?</p>\n",
    "<p><strong>Hint</strong>: You may find the pandas functions <code>to_datetime()</code> and <code>dt.to_period()</code> useful.</p>"
   ]
  },
  {
   "cell_type": "markdown",
   "metadata": {
    "tags": [
     "ans_st"
    ]
   },
   "source": [
    "**Answer.**"
   ]
  },
  {
   "cell_type": "code",
   "execution_count": 6,
   "metadata": {},
   "outputs": [
    {
     "name": "stdout",
     "output_type": "stream",
     "text": [
      "            COUNT\n",
      "DATE             \n",
      "2018-01-31  11735\n",
      "2018-02-28  10395\n",
      "2018-03-31  12519\n",
      "2018-04-30  11679\n",
      "2018-05-31  13438\n",
      "2018-06-30  13314\n",
      "2018-07-31  12787\n",
      "2018-08-31  12644\n",
      "2018-09-30  12425\n",
      "2018-10-31  13336\n",
      "2018-11-30  12447\n",
      "2018-12-31  12479\n",
      "2019-01-31  11000\n",
      "2019-02-28  10310\n",
      "2019-03-31  11482\n",
      "2019-04-30  10833\n",
      "2019-05-31  12642\n",
      "2019-06-30  12577\n",
      "2019-07-31  12014\n",
      "2019-08-31   8466\n"
     ]
    },
    {
     "data": {
      "image/png": "[encoded data removed]",
      "text/plain": [
       "<Figure size 432x288 with 1 Axes>"
      ]
     },
     "metadata": {
      "needs_background": "light"
     },
     "output_type": "display_data"
    }
   ],
   "source": [
    "adf[\"DATE\"] = pd.to_datetime(adf[\"DATE\"], format=\"%m/%d/%Y\")\n",
    "temp2 = adf.copy()\n",
    "temp2['DATE'] = pd.to_datetime(temp2['DATE'])\n",
    "temp2.set_index('DATE',inplace=True)\n",
    "temp2.groupby(pd.Grouper(freq='M')).agg({'COUNT':'sum'}).plot()\n",
    "print(temp2.groupby(pd.Grouper(freq='M')).agg({'COUNT':'sum'}))"
   ]
  },
  {
   "cell_type": "markdown",
   "metadata": {},
   "source": [
    "The data shows that the accidents fluctate over the year, there is not evidence that could indicate that their number is decreasing."
   ]
  },
  {
   "cell_type": "markdown",
   "metadata": {},
   "source": [
    "<h3>Exercise 3 :</h3>\n",
    "<p>From the plot above, which months seem to have the least number of accidents? What do you think are the reasons behind this?</p>"
   ]
  },
  {
   "cell_type": "markdown",
   "metadata": {
    "tags": [
     "ans_st"
    ]
   },
   "source": [
    "**Answer.**"
   ]
  },
  {
   "cell_type": "markdown",
   "metadata": {},
   "source": [
    "February seems to be the month were the number of accidents is lower on both years, one reason may be the that it is one of the coldest month"
   ]
  },
  {
   "cell_type": "markdown",
   "metadata": {},
   "source": [
    "<h3>Exercise 4 :</h3>\n",
    "<p>How does the number of accidents vary throughout a single day? Create a new column <code>HOUR</code> based on the data from the <code>TIME</code> column, then plot a bar graph of the distribution per hour throughout the day.</p>\n",
    "<p><strong>Hint:</strong> You may find the function <code>dt.hour</code> useful. </p>"
   ]
  },
  {
   "cell_type": "markdown",
   "metadata": {
    "tags": [
     "ans_st"
    ]
   },
   "source": [
    "**Answer.**"
   ]
  },
  {
   "cell_type": "code",
   "execution_count": 7,
   "metadata": {},
   "outputs": [
    {
     "data": {
      "text/plain": [
       "<matplotlib.axes._subplots.AxesSubplot at 0x7f8c44c385c0>"
      ]
     },
     "execution_count": 7,
     "metadata": {},
     "output_type": "execute_result"
    },
    {
     "data": {
      "image/png": "[encoded data removed]",
      "text/plain": [
       "<Figure size 432x288 with 1 Axes>"
      ]
     },
     "metadata": {
      "needs_background": "light"
     },
     "output_type": "display_data"
    }
   ],
   "source": [
    "adf[\"TIME\"] = pd.to_datetime(adf[\"TIME\"])\n",
    "temp3 = adf.copy()\n",
    "temp3[\"HOUR\"] = temp3[\"TIME\"].dt.hour\n",
    "#temp3.groupby(temp3[\"HOUR\"]).agg({'COUNT':'sum'}).unstack().plot.bar()\n",
    "temp3.groupby(temp3[\"HOUR\"])['COUNT'].sum().plot.bar()"
   ]
  },
  {
   "cell_type": "markdown",
   "metadata": {},
   "source": [
    "<p>From this, we see that more accidents occur in the afternoon (2 - 6 PM) than at other times of day.</p>"
   ]
  },
  {
   "cell_type": "markdown",
   "metadata": {},
   "source": [
    "<h3>Exercise 5 :</h3>\n",
    "<p>In the above question we have aggregated the number accidents per hour disregarding the date and place of ocurrence. Which criticism would you give to this approach?</p>"
   ]
  },
  {
   "cell_type": "markdown",
   "metadata": {
    "tags": [
     "ans_st"
    ]
   },
   "source": [
    "**Answer.**"
   ]
  },
  {
   "cell_type": "markdown",
   "metadata": {},
   "source": [
    "From the graphic we can see on general terms that aroung 4 pm most the accidents take place, the problem is that it is hard to see if that is strongly inflenced by a borough or a day of the week."
   ]
  },
  {
   "cell_type": "markdown",
   "metadata": {},
   "source": [
    "<h3>Exercise 6 :</h3>\n",
    "<p>How does the number of accidents vary throughout a single week? Plot a bar graph based on the accidents count by day of the week.</p>\n",
    "<p><strong>Hint:</strong> You may find the function <code>dt.weekday</code> useful.</p>"
   ]
  },
  {
   "cell_type": "markdown",
   "metadata": {
    "tags": [
     "ans_st"
    ]
   },
   "source": [
    "**Answer.**"
   ]
  },
  {
   "cell_type": "code",
   "execution_count": 8,
   "metadata": {},
   "outputs": [
    {
     "name": "stdout",
     "output_type": "stream",
     "text": [
      "WEEKDAY\n",
      "Friday       37886\n",
      "Monday       34719\n",
      "Saturday     31784\n",
      "Sunday       27040\n",
      "Thursday     36254\n",
      "Tuesday      35651\n",
      "Wednesday    35188\n",
      "dtype: int64\n"
     ]
    },
    {
     "data": {
      "text/plain": [
       "<matplotlib.axes._subplots.AxesSubplot at 0x7f8c43d4e8d0>"
      ]
     },
     "execution_count": 8,
     "metadata": {},
     "output_type": "execute_result"
    },
    {
     "data": {
      "image/png": "[encoded data removed]",
      "text/plain": [
       "<Figure size 432x288 with 1 Axes>"
      ]
     },
     "metadata": {
      "needs_background": "light"
     },
     "output_type": "display_data"
    }
   ],
   "source": [
    "temp4 = adf.copy()\n",
    "temp4['WEEKDAY'] = temp4['DATE'].dt.weekday_name\n",
    "print(temp4.groupby('WEEKDAY').size())\n",
    "temp4.groupby(temp4[\"WEEKDAY\"])['COUNT'].sum().plot.bar()"
   ]
  },
  {
   "cell_type": "markdown",
   "metadata": {},
   "source": [
    "<h3>Exercise 7 :</h3>\n",
    "<p>Plot a bar graph of the total number of accidents in each borough, as well as one of the accidents per square mile per borough. What can you conclude?</p>\n",
    "<p><strong>Hint:</strong> You may want to update some of the keys in the borough dictionary to match the names in the dataframe. </p>"
   ]
  },
  {
   "cell_type": "markdown",
   "metadata": {
    "tags": [
     "ans_st"
    ]
   },
   "source": [
    "**Answer.**"
   ]
  },
  {
   "cell_type": "code",
   "execution_count": 9,
   "metadata": {},
   "outputs": [
    {
     "data": {
      "text/plain": [
       "<matplotlib.axes._subplots.AxesSubplot at 0x7f8c43781908>"
      ]
     },
     "execution_count": 9,
     "metadata": {},
     "output_type": "execute_result"
    },
    {
     "data": {
      "image/png": "[encoded data removed]",
      "text/plain": [
       "<Figure size 432x288 with 1 Axes>"
      ]
     },
     "metadata": {
      "needs_background": "light"
     },
     "output_type": "display_data"
    }
   ],
   "source": [
    "temp4.groupby(temp4[\"BOROUGH\"])['COUNT'].sum().plot.bar()"
   ]
  },
  {
   "cell_type": "code",
   "execution_count": 10,
   "metadata": {},
   "outputs": [],
   "source": [
    "temp5 = adf.copy()\n",
    "temp5['BOROUGH'] = temp5['BOROUGH'].str.lower()\n",
    "bdf1 = bdf.copy()\n",
    "bdf1 = bdf1.replace(\"the bronx\", 'bronx')\n",
    "bdf1['bronx'] = bdf1['the bronx']\n",
    "bdf1 = bdf1.drop(['the bronx'], axis=1) \n",
    "temp5['A'] = [bdf1[x]['area'] for x in temp5['BOROUGH']]\n"
   ]
  },
  {
   "cell_type": "code",
   "execution_count": 11,
   "metadata": {},
   "outputs": [
    {
     "name": "stdout",
     "output_type": "stream",
     "text": [
      "         BOROUGH       A  COUNT            R\n",
      "0          bronx   42.10  37709   895.700713\n",
      "1       brooklyn   70.82  76253  1076.715617\n",
      "2      manhattan   22.83  48749  2135.304424\n",
      "3         queens  108.53  67120   618.446512\n",
      "4  staten island   58.37   8691   148.894980\n"
     ]
    },
    {
     "data": {
      "image/png": "[encoded data removed]",
      "text/plain": [
       "<Figure size 432x288 with 1 Axes>"
      ]
     },
     "metadata": {
      "needs_background": "light"
     },
     "output_type": "display_data"
    }
   ],
   "source": [
    "temp6 = temp5.groupby([temp5[\"BOROUGH\"],temp5['A']])['COUNT'].sum().transpose().reset_index()\n",
    "temp6['R'] = temp6['COUNT']/temp6['A']\n",
    "print(temp6)\n",
    "ax = sns.barplot(x=\"BOROUGH\", y=\"R\", data=temp6)"
   ]
  },
  {
   "cell_type": "markdown",
   "metadata": {},
   "source": [
    "We can see that manhattan does not have a really high number of accidents, but when taking into consideration its size, then that number is a sign of trouble."
   ]
  },
  {
   "cell_type": "markdown",
   "metadata": {},
   "source": [
    "<h3>Exercise 8 :</h3>\n",
    "<p>Which hours have the most accidents for each borough? Plot a bar graph for each borough showing the number of accidents for each hour of the day.</p>\n",
    "<p><strong>Hint:</strong> You can use <code>sns.FacetGrid</code> to create a grid of plots with the hourly data of each borough. </p>"
   ]
  },
  {
   "cell_type": "markdown",
   "metadata": {
    "tags": [
     "ans_st"
    ]
   },
   "source": [
    "**Answer.**"
   ]
  },
  {
   "cell_type": "code",
   "execution_count": 12,
   "metadata": {},
   "outputs": [],
   "source": [
    "temp8 = adf.copy()\n",
    "temp8[\"HOUR\"] = temp3[\"TIME\"].dt.hour\n",
    "temp9 = temp8.groupby([temp8[\"BOROUGH\"],temp8[\"HOUR\"]])['COUNT'].sum().reset_index()\n",
    "#print(temp9)"
   ]
  },
  {
   "cell_type": "code",
   "execution_count": 13,
   "metadata": {},
   "outputs": [
    {
     "data": {
      "image/png": "[encoded data removed]",
      "text/plain": [
       "<Figure size 504x756 with 5 Axes>"
      ]
     },
     "metadata": {
      "needs_background": "light"
     },
     "output_type": "display_data"
    }
   ],
   "source": [
    "g =  sns.FacetGrid(temp9, col=\"BOROUGH\", col_wrap=2, height=3.5)\n",
    "g = g.map(plt.plot, \"HOUR\", \"COUNT\", marker=\".\")\n",
    "#g.show()"
   ]
  },
  {
   "cell_type": "markdown",
   "metadata": {},
   "source": [
    "<p><strong>Is the number of accidents higher at different times in different boroughs? Should we concentrate at different times for each borough?</strong></p>"
   ]
  },
  {
   "cell_type": "markdown",
   "metadata": {},
   "source": [
    "<p>We can see that in all the boroughs the accident count is highest from approximately 2 - 6PM. But in Manhattan and the Bronx, you can see that there is not as much of a relative increase during these hours as in Brooklyn or Queens. Additionally, Staten Island has the lowest overall number of accidents.</p>"
   ]
  },
  {
   "cell_type": "markdown",
   "metadata": {},
   "source": [
    "<h3>Exercise 9 :</h3>\n",
    "<p>What factors cause the most accidents? Avoid double counting the contributing factors of a single accident. </p>\n",
    "<p><strong>Hint:</strong> One way of dealing with repetitions is to concatenate the corresponding columns while preserving their indexes, you can do that with the functions <code>pd.concat()</code> and  <code>reset_index()</code>. Then, use an appropiate <code>group_by</code> to count the number of repetitions of contributed factors per accident.   </p>"
   ]
  },
  {
   "cell_type": "markdown",
   "metadata": {
    "tags": [
     "ans_st"
    ]
   },
   "source": [
    "**Answer.**"
   ]
  },
  {
   "cell_type": "code",
   "execution_count": 14,
   "metadata": {},
   "outputs": [],
   "source": [
    "temp19 = adf.copy()\n",
    "listofcols = ['CONTRIBUTING FACTOR VEHICLE 1','CONTRIBUTING FACTOR VEHICLE 2','CONTRIBUTING FACTOR VEHICLE 3','CONTRIBUTING FACTOR VEHICLE 4','CONTRIBUTING FACTOR VEHICLE 5']\n",
    "for r in listofcols:\n",
    "    temp19[r] = temp19[r].fillna(\"Unspecified\")\n",
    "\n",
    "df1 = temp19[['CONTRIBUTING FACTOR VEHICLE 1']].reset_index()\n",
    "df1.columns = ['CI','C']\n",
    "df2 = temp19[['CONTRIBUTING FACTOR VEHICLE 2']].reset_index()\n",
    "df2.columns = ['CI','C']\n",
    "df3 = temp19[['CONTRIBUTING FACTOR VEHICLE 3']].reset_index()\n",
    "df3.columns = ['CI','C']\n",
    "df4 = temp19[['CONTRIBUTING FACTOR VEHICLE 4']].reset_index()\n",
    "df4.columns = ['CI','C']\n",
    "\n",
    "dfc = pd.concat([df1, df2, df3, df4] ,sort='False')\n",
    "dfc['COUNT'] = 1\n",
    "#print (dfc)\n",
    "\n",
    "w = dfc.groupby([dfc['C'],dfc['CI']])['COUNT'].sum().reset_index()\n",
    "#print (w)"
   ]
  },
  {
   "cell_type": "code",
   "execution_count": 15,
   "metadata": {},
   "outputs": [
    {
     "data": {
      "text/plain": [
       "Unspecified                                              238450\n",
       "Driver Inattention/Distraction                            61752\n",
       "Failure to Yield Right-of-Way                             19641\n",
       "Following Too Closely                                     17292\n",
       "Backing Unsafely                                          14835\n",
       "Passing Too Closely                                       12631\n",
       "Passing or Lane Usage Improper                            11808\n",
       "Other Vehicular                                            8860\n",
       "Unsafe Lane Changing                                       6643\n",
       "Turning Improperly                                         6626\n",
       "Traffic Control Disregarded                                4687\n",
       "Driver Inexperience                                        4152\n",
       "Unsafe Speed                                               3469\n",
       "Reaction to Uninvolved Vehicle                             3034\n",
       "Alcohol Involvement                                        2489\n",
       "View Obstructed/Limited                                    2345\n",
       "Oversized Vehicle                                          1977\n",
       "Pavement Slippery                                          1935\n",
       "Pedestrian/Bicyclist/Other Pedestrian Error/Confusion      1788\n",
       "Aggressive Driving/Road Rage                               1094\n",
       "Passenger Distraction                                      1040\n",
       "Brakes Defective                                            840\n",
       "Fell Asleep                                                 598\n",
       "Outside Car Distraction                                     549\n",
       "Glare                                                       435\n",
       "Obstruction/Debris                                          431\n",
       "Failure to Keep Right                                       357\n",
       "Steering Failure                                            320\n",
       "Pavement Defective                                          301\n",
       "Illnes                                                      255\n",
       "Driverless/Runaway Vehicle                                  241\n",
       "Tire Failure/Inadequate                                     220\n",
       "Fatigued/Drowsy                                             218\n",
       "Lost Consciousness                                          206\n",
       "Animals Action                                              183\n",
       "Lane Marking Improper/Inadequate                            144\n",
       "Accelerator Defective                                       143\n",
       "Drugs (illegal)                                             118\n",
       "Traffic Control Device Improper/Non-Working                  99\n",
       "Cell Phone (hand-Held)                                       94\n",
       "Physical Disability                                          61\n",
       "Other Lighting Defects                                       39\n",
       "Other Electronic Device                                      31\n",
       "Tinted Windows                                               27\n",
       "Tow Hitch Defective                                          26\n",
       "Vehicle Vandalism                                            23\n",
       "Prescription Medication                                      20\n",
       "Using On Board Navigation Device                             19\n",
       "Headlights Defective                                         17\n",
       "Eating or Drinking                                           16\n",
       "Texting                                                      13\n",
       "Cell Phone (hands-free)                                      12\n",
       "Shoulders Defective/Improper                                  9\n",
       "Windshield Inadequate                                         8\n",
       "Listening/Using Headphones                                    7\n",
       "Name: C, dtype: int64"
      ]
     },
     "execution_count": 15,
     "metadata": {},
     "output_type": "execute_result"
    }
   ],
   "source": [
    "w[~w.duplicated(['C', 'CI'], keep=False)]\n",
    "w['C'].value_counts()\n",
    "#w.groupby(w[\"C\"]).count().sort_values(w['C'],ascending=False)"
   ]
  },
  {
   "cell_type": "code",
   "execution_count": 16,
   "metadata": {},
   "outputs": [],
   "source": [
    "#d = w.C.unique()\n",
    "#for dd in d:\n",
    "#    t = w[w.C == dd]\n",
    "#    t.CI.drop_duplicates()\n",
    "#    print(dd , len(t.index))\n"
   ]
  },
  {
   "cell_type": "markdown",
   "metadata": {},
   "source": [
    "The data shows that <strong>\"Driver Inattention/Distraction\"</strong> is the highest cause of accidents"
   ]
  },
  {
   "cell_type": "markdown",
   "metadata": {},
   "source": [
    "<h3>Exercise 10 :</h3>\n",
    "<p>Which vehicle types are most involved in accidents per borough? Avoid double counting the type of vehicles present in a single accident. </p>\n",
    "<p><strong>Hint:</strong> You can apply a similar approach to the one used in the previous question.</p>"
   ]
  },
  {
   "cell_type": "markdown",
   "metadata": {
    "tags": [
     "ans_st"
    ]
   },
   "source": [
    "**Answer.**"
   ]
  },
  {
   "cell_type": "code",
   "execution_count": 17,
   "metadata": {},
   "outputs": [
    {
     "name": "stdout",
     "output_type": "stream",
     "text": [
      "BRONX\n",
      "B        BRONX\n",
      "C        Sedan\n",
      "COUNT    19652\n",
      "Name: 181, dtype: object\n",
      "BROOKLYN\n",
      "B        BROOKLYN\n",
      "C           Sedan\n",
      "COUNT       39459\n",
      "Name: 510, dtype: object\n",
      "QUEENS\n",
      "B        QUEENS\n",
      "C         Sedan\n",
      "COUNT     35103\n",
      "Name: 1161, dtype: object\n",
      "MANHATTAN\n",
      "B        MANHATTAN\n",
      "C            Sedan\n",
      "COUNT        20727\n",
      "Name: 866, dtype: object\n",
      "STATEN ISLAND\n",
      "B        STATEN ISLAND\n",
      "C                Sedan\n",
      "COUNT             4773\n",
      "Name: 1327, dtype: object\n"
     ]
    }
   ],
   "source": [
    "temp19 = adf.copy()\n",
    "listofcols = ['VEHICLE TYPE CODE 1', 'VEHICLE TYPE CODE 2','VEHICLE TYPE CODE 3', 'VEHICLE TYPE CODE 4', 'VEHICLE TYPE CODE 5']\n",
    "#for r in listofcols:\n",
    "#    temp19[r] = temp19[r].fillna(\"Unspecified\")\n",
    "\n",
    "df1 = temp19[[listofcols[0],'BOROUGH']].reset_index()\n",
    "#print(df1)\n",
    "df1.columns = ['I','C','B']\n",
    "df2 = temp19[[listofcols[1],'BOROUGH']].reset_index()\n",
    "df2.columns = ['I','C','B']\n",
    "df3 = temp19[[listofcols[2],'BOROUGH']].reset_index()\n",
    "df3.columns = ['I','C','B']\n",
    "df4 = temp19[[listofcols[3],'BOROUGH']].reset_index()\n",
    "df4.columns = ['I','C','B']\n",
    "df5 = temp19[[listofcols[4],'BOROUGH']].reset_index()\n",
    "df5.columns = ['I','C','B']\n",
    "\n",
    "dfc = pd.concat([df1, df2, df3, df4, df5] ,sort='False')\n",
    "#print(\"dfc len \", len(dfc))\n",
    "dfc['COUNT'] = 1\n",
    "#print (dfc)\n",
    "\n",
    "w = dfc.groupby([dfc['B'],dfc['C'],dfc['I']])['COUNT'].sum().reset_index()\n",
    "#print(\"w len \", len(w))\n",
    "w = w.groupby([w['B'],w['C']])['COUNT'].count().reset_index()\n",
    "\n",
    "#print(\"w len \", len(w))\n",
    "#print(w[w['C'] == \"Sedan\"])\n",
    "d = adf.BOROUGH.unique()\n",
    "for dd in d:\n",
    "    t = w[w.B == dd]\n",
    "    print(dd)\n",
    "    t = t.sort_values(by=['COUNT'], ascending=False)\n",
    "    print(t.iloc[0])\n",
    "\n",
    "    "
   ]
  },
  {
   "cell_type": "markdown",
   "metadata": {},
   "source": [
    "<h3>Exercise 11 :</h3>\n",
    "<p>In a 2018 <a href=\"https://www.nytimes.com/2019/01/01/nyregion/traffic-deaths-decrease-nyc.html\">interview</a> with The New York Times, New York's mayor de Blasio stated that <em>'Vision Zero is clearly working'</em>. That year, the number of deaths in traffic accidents in NYC dropped to a historical 202. Yet, as reported by <a href=\"https://www.amny.com/news/vision-zero-de-blasio-1-30707464/\">am New York Metro</a>, the number of fatalities has increased by 30% in the first quarter of 2019 compared to the previous year and the number of pedestrians and cyclist injured has not seen any improvement.</p>\n",
    "<p>How would you use the provided data to understand what went wrong in the first quarter of 2019?</p>\n",
    "<blockquote>\n",
    "<ul>\n",
    "<li>\n",
    "<p>[ ] Consider the accidents of the first quarter of 2019. Then, check for the most common causes of accidents where pedestrians and cyclists were involved. Give a recommendation based solely on this information. </p>\n",
    "</li>\n",
    "<li>\n",
    "<p>[ ] Create a pair of heatmaps of the accidents involving injured/killed pedestrians and cyclists in the first quarter of 2018 and 2019. Compare these two to see if there is any change in the concentration of accidents. In critical areas, study the type of factors involved in the accidents. Give a recommendation to visit these areas to study the problem further.    </p>\n",
    "</li>\n",
    "<li>\n",
    "<p>[ ] The provided data is insufficient to improve our understanding of the situation.</p>\n",
    "</li>\n",
    "<li>\n",
    "<p>[ ] None of the above. I would do the following: <em>here your recommended answer</em>.</p>\n",
    "</li>\n",
    "</ul>\n",
    "</blockquote>"
   ]
  },
  {
   "cell_type": "code",
   "execution_count": 18,
   "metadata": {},
   "outputs": [
    {
     "name": "stdout",
     "output_type": "stream",
     "text": [
      "3315\n"
     ]
    },
    {
     "data": {
      "text/plain": [
       "Unspecified                                              3315\n",
       "Driver Inattention/Distraction                            901\n",
       "Failure to Yield Right-of-Way                             769\n",
       "Pedestrian/Bicyclist/Other Pedestrian Error/Confusion     198\n",
       "Backing Unsafely                                          111\n",
       "Traffic Control Disregarded                                72\n",
       "View Obstructed/Limited                                    67\n",
       "Passing or Lane Usage Improper                             58\n",
       "Unsafe Speed                                               45\n",
       "Other Vehicular                                            39\n",
       "Passing Too Closely                                        28\n",
       "Turning Improperly                                         27\n",
       "Following Too Closely                                      24\n",
       "Glare                                                      21\n",
       "Alcohol Involvement                                        21\n",
       "Driver Inexperience                                        19\n",
       "Aggressive Driving/Road Rage                               19\n",
       "Pavement Slippery                                          17\n",
       "Reaction to Uninvolved Vehicle                             15\n",
       "Passenger Distraction                                      13\n",
       "Unsafe Lane Changing                                       13\n",
       "Outside Car Distraction                                     7\n",
       "Oversized Vehicle                                           6\n",
       "Obstruction/Debris                                          6\n",
       "Other Lighting Defects                                      4\n",
       "Driverless/Runaway Vehicle                                  3\n",
       "Brakes Defective                                            2\n",
       "Lost Consciousness                                          2\n",
       "Cell Phone (hand-Held)                                      2\n",
       "Cell Phone (hands-free)                                     1\n",
       "Headlights Defective                                        1\n",
       "Steering Failure                                            1\n",
       "Pavement Defective                                          1\n",
       "Listening/Using Headphones                                  1\n",
       "Failure to Keep Right                                       1\n",
       "Name: C, dtype: int64"
      ]
     },
     "execution_count": 18,
     "metadata": {},
     "output_type": "execute_result"
    }
   ],
   "source": [
    "\n",
    "temp21 = adf.copy()\n",
    "temp21[\"DATE\"] = pd.to_datetime(temp21[\"DATE\"])\n",
    "temp21 = temp21[((temp21['DATE']>= '2019-01-01') & (temp21['DATE']<= '2019-04-30'))]\n",
    "temp21 = temp21[((temp21['NUMBER OF PEDESTRIANS KILLED']>0) | (temp21['NUMBER OF CYCLIST KILLED']>0) | (temp21['NUMBER OF PEDESTRIANS INJURED']>0) | (temp21['NUMBER OF CYCLIST INJURED']>0))] \n",
    "print(len(temp21))\n",
    "listofcols = ['CONTRIBUTING FACTOR VEHICLE 1','CONTRIBUTING FACTOR VEHICLE 2','CONTRIBUTING FACTOR VEHICLE 3','CONTRIBUTING FACTOR VEHICLE 4','CONTRIBUTING FACTOR VEHICLE 5']\n",
    "for r in listofcols:\n",
    "    temp21[r] = temp21[r].fillna(\"Unspecified\")\n",
    "df1 = temp21[['CONTRIBUTING FACTOR VEHICLE 1']].reset_index()\n",
    "df1.columns = ['CI','C']\n",
    "df2 = temp21[['CONTRIBUTING FACTOR VEHICLE 2']].reset_index()\n",
    "df2.columns = ['CI','C']\n",
    "df3 = temp21[['CONTRIBUTING FACTOR VEHICLE 3']].reset_index()\n",
    "df3.columns = ['CI','C']\n",
    "df4 = temp21[['CONTRIBUTING FACTOR VEHICLE 4']].reset_index()\n",
    "df4.columns = ['CI','C']\n",
    "\n",
    "dfc = pd.concat([df1, df2, df3, df4] ,sort='False')\n",
    "dfc['COUNT'] = 1\n",
    "#print (dfc)\n",
    "\n",
    "w19 = dfc.groupby([dfc['C'],dfc['CI']])['COUNT'].sum().reset_index()\n",
    "w19[~w19.duplicated(['C', 'CI'], keep=False)]\n",
    "w19['C'].value_counts()"
   ]
  },
  {
   "cell_type": "code",
   "execution_count": 19,
   "metadata": {},
   "outputs": [
    {
     "name": "stdout",
     "output_type": "stream",
     "text": [
      "20 after basic filters  3315\n",
      "            LAT       LONG  COUNT\n",
      "2530  40.817173 -73.946060      4\n",
      "2320  40.773872 -73.982230      4\n",
      "1527  40.723076 -73.976490      4\n",
      "2824  40.861700 -73.891390      4\n",
      "2566  40.822690 -73.949470      4\n",
      "2438  40.804375 -73.937420      4\n",
      "1221  40.701130 -73.960870      4\n",
      "1858  40.746080 -73.974945      4\n",
      "1498  40.720320 -73.994040      4\n",
      "0      0.000000   0.000000      3\n",
      "2494  40.813774 -73.959690      3\n",
      "2478  40.809880 -73.903080      3\n",
      "1024  40.685440 -73.972280      3\n",
      "2492  40.813374 -73.956276      3\n",
      "349   40.626770 -73.946884      3\n",
      "2498  40.814290 -73.923676      3\n",
      "1033  40.686234 -73.824180      3\n",
      "1710  40.737915 -73.992230      3\n",
      "1707  40.737682 -73.862305      3\n",
      "1699  40.737152 -73.814705      3\n",
      "335   40.624653 -73.999330      3\n",
      "2522  40.816555 -73.916770      3\n",
      "1689  40.736443 -73.977600      3\n",
      "369   40.628647 -74.025960      3\n",
      "1731  40.739166 -73.979970      3\n",
      "1729  40.739094 -73.917620      3\n",
      "2416  40.798615 -73.943750      3\n",
      "2386  40.787224 -73.954170      3\n",
      "2390  40.789635 -73.946090      3\n",
      "1783  40.742830 -73.974230      3\n",
      "...         ...        ...    ...\n",
      "468   40.636086 -73.950910      1\n",
      "496   40.638794 -73.970750      1\n",
      "1082  40.690468 -73.987900      1\n",
      "501   40.639187 -73.954360      1\n",
      "517   40.640415 -74.011620      1\n",
      "1073  40.689804 -73.977940      1\n",
      "2286  40.770313 -73.991410      1\n",
      "527   40.641125 -73.945630      1\n",
      "526   40.640990 -73.983864      1\n",
      "524   40.640880 -73.965160      1\n",
      "523   40.640823 -73.965310      1\n",
      "522   40.640797 -73.905120      1\n",
      "521   40.640694 -73.996980      1\n",
      "520   40.640682 -73.992455      1\n",
      "1661  40.734642 -73.979090      1\n",
      "518   40.640625 -74.014984      1\n",
      "2298  40.771137 -73.990800      1\n",
      "502   40.639503 -73.987465      1\n",
      "515   40.640205 -73.980010      1\n",
      "2301  40.771610 -73.990460      1\n",
      "514   40.640205 -73.985580      1\n",
      "1658  40.734450 -73.988430      1\n",
      "510   40.640070 -73.955230      1\n",
      "509   40.639984 -73.948420      1\n",
      "507   40.639645 -73.980150      1\n",
      "1079  40.690346 -73.992060      1\n",
      "505   40.639637 -73.915330      1\n",
      "504   40.639595 -73.986120      1\n",
      "1655  40.734260 -73.983560      1\n",
      "2969  40.910854 -73.903015      1\n",
      "\n",
      "[2970 rows x 3 columns]\n",
      "2018 after basic filters  3398\n",
      "            LAT       LONG  COUNT\n",
      "0      0.000000   0.000000      5\n",
      "342   40.628770 -73.918250      5\n",
      "366   40.631706 -73.946490      5\n",
      "678   40.663555 -73.931620      5\n",
      "2132  40.761147 -73.979520      5\n",
      "1037  40.690357 -73.841090      4\n",
      "2431  40.805553 -73.938110      4\n",
      "870   40.677654 -73.828660      4\n",
      "1961  40.753000 -73.969894      4\n",
      "2518  40.818012 -73.925190      4\n",
      "907   40.680016 -73.877430      4\n",
      "2592  40.827423 -73.868230      4\n",
      "2630  40.833557 -73.857740      4\n",
      "1895  40.749653 -73.885250      4\n",
      "2444  40.808132 -73.916595      4\n",
      "1263  40.708390 -73.939964      4\n",
      "422   40.636086 -73.950910      4\n",
      "2137  40.761550 -73.994080      4\n",
      "1235  40.706627 -73.815956      3\n",
      "1238  40.706750 -73.802240      3\n",
      "1370  40.714165 -74.006320      3\n",
      "1366  40.714050 -73.778010      3\n",
      "1247  40.707115 -74.007340      3\n",
      "1252  40.707653 -73.939840      3\n",
      "1346  40.712948 -73.995240      3\n",
      "1280  40.709503 -74.001670      3\n",
      "1343  40.712696 -73.900604      3\n",
      "1267  40.708694 -73.818560      3\n",
      "1340  40.712532 -74.007675      3\n",
      "1334  40.712270 -73.939430      3\n",
      "...         ...        ...    ...\n",
      "618   40.656208 -73.956420      1\n",
      "617   40.656162 -73.930870      1\n",
      "615   40.655994 -73.909190      1\n",
      "637   40.658417 -73.929146      1\n",
      "639   40.658577 -73.890630      1\n",
      "1167  40.701530 -74.012344      1\n",
      "2335  40.781530 -73.960430      1\n",
      "2318  40.778008 -73.803474      1\n",
      "667   40.662678 -73.985100      1\n",
      "665   40.662556 -73.919630      1\n",
      "664   40.662550 -73.908930      1\n",
      "2326  40.779854 -73.919680      1\n",
      "663   40.662130 -73.961754      1\n",
      "662   40.661995 -73.919590      1\n",
      "2329  40.780170 -73.955100      1\n",
      "1695  40.739506 -73.984760      1\n",
      "657   40.661327 -73.997910      1\n",
      "2336  40.781680 -73.821020      1\n",
      "1180  40.702260 -73.932490      1\n",
      "1176  40.701960 -73.944016      1\n",
      "655   40.661037 -73.997440      1\n",
      "654   40.660934 -73.983246      1\n",
      "1177  40.702080 -73.879036      1\n",
      "651   40.660590 -73.931335      1\n",
      "650   40.659930 -73.891655      1\n",
      "2344  40.783337 -73.970764      1\n",
      "1691  40.738945 -73.992836      1\n",
      "2346  40.783466 -73.959015      1\n",
      "647   40.659344 -73.902245      1\n",
      "62    40.589880 -73.956600      1\n",
      "\n",
      "[2949 rows x 3 columns]\n"
     ]
    }
   ],
   "source": [
    "temp21 = adf.copy()\n",
    "temp21[\"DATE\"] = pd.to_datetime(temp21[\"DATE\"])\n",
    "temp21 = temp21[((temp21['DATE']>= '2019-01-01') & (temp21['DATE']<= '2019-04-30'))]\n",
    "temp21 = temp21[((temp21['NUMBER OF PEDESTRIANS KILLED']>0) | (temp21['NUMBER OF CYCLIST KILLED']>0) | (temp21['NUMBER OF PEDESTRIANS INJURED']>0) | (temp21['NUMBER OF CYCLIST INJURED']>0))] \n",
    "print(\"20 after basic filters \",len(temp21))\n",
    "listofcols = ['CONTRIBUTING FACTOR VEHICLE 1','CONTRIBUTING FACTOR VEHICLE 2','CONTRIBUTING FACTOR VEHICLE 3','CONTRIBUTING FACTOR VEHICLE 4','CONTRIBUTING FACTOR VEHICLE 5']\n",
    "for r in listofcols:\n",
    "    temp21[r] = temp21[r].fillna(\"Unspecified\")\n",
    "df1 = temp21[['CONTRIBUTING FACTOR VEHICLE 1',\"LATITUDE\", \"LONGITUDE\"]].reset_index()\n",
    "df1.columns = ['CI','C','LAT','LONG']\n",
    "df2 = temp21[['CONTRIBUTING FACTOR VEHICLE 2',\"LATITUDE\", \"LONGITUDE\"]].reset_index()\n",
    "df2.columns = ['CI','C','LAT','LONG']\n",
    "df3 = temp21[['CONTRIBUTING FACTOR VEHICLE 3',\"LATITUDE\", \"LONGITUDE\"]].reset_index()\n",
    "df3.columns = ['CI','C','LAT','LONG']\n",
    "df4 = temp21[['CONTRIBUTING FACTOR VEHICLE 4',\"LATITUDE\", \"LONGITUDE\"]].reset_index()\n",
    "df4.columns = ['CI','C','LAT','LONG']\n",
    "\n",
    "dfc = pd.concat([df1, df2, df3, df4] ,sort='False')\n",
    "dfc['COUNT'] = 1\n",
    "#print (dfc)\n",
    "\n",
    "w19 = dfc.groupby([dfc['C'],dfc['CI'],dfc['LAT'],dfc['LONG']])['COUNT'].sum().reset_index()\n",
    "\n",
    "w19[~w19.duplicated(['C', 'CI'], keep=False)]\n",
    "\n",
    "w19 = w19.groupby([w19['C'],w19['LAT'],w19['LONG']])['COUNT'].count().reset_index().sort_values(by=['COUNT'], ascending=False)\n",
    "\n",
    "w19 = w19.groupby([w19['LAT'],w19['LONG']])['COUNT'].count().reset_index().sort_values(by=['COUNT'], ascending=False)\n",
    "print(w19)\n",
    "\n",
    "\n",
    "#------------------------\n",
    "\n",
    "temp21 = adf.copy()\n",
    "temp21[\"DATE\"] = pd.to_datetime(temp21[\"DATE\"])\n",
    "temp21 = temp21[((temp21['DATE']>= '2018-01-01') & (temp21['DATE']<= '2018-04-30'))]\n",
    "temp21 = temp21[((temp21['NUMBER OF PEDESTRIANS KILLED']>0) | (temp21['NUMBER OF CYCLIST KILLED']>0) | (temp21['NUMBER OF PEDESTRIANS INJURED']>0) | (temp21['NUMBER OF CYCLIST INJURED']>0))] \n",
    "print(\"2018 after basic filters \",len(temp21))\n",
    "listofcols = ['CONTRIBUTING FACTOR VEHICLE 1','CONTRIBUTING FACTOR VEHICLE 2','CONTRIBUTING FACTOR VEHICLE 3','CONTRIBUTING FACTOR VEHICLE 4','CONTRIBUTING FACTOR VEHICLE 5']\n",
    "for r in listofcols:\n",
    "    temp21[r] = temp21[r].fillna(\"Unspecified\")\n",
    "df1 = temp21[['CONTRIBUTING FACTOR VEHICLE 1',\"LATITUDE\", \"LONGITUDE\"]].reset_index()\n",
    "df1.columns = ['CI','C','LAT','LONG']\n",
    "df2 = temp21[['CONTRIBUTING FACTOR VEHICLE 2',\"LATITUDE\", \"LONGITUDE\"]].reset_index()\n",
    "df2.columns = ['CI','C','LAT','LONG']\n",
    "df3 = temp21[['CONTRIBUTING FACTOR VEHICLE 3',\"LATITUDE\", \"LONGITUDE\"]].reset_index()\n",
    "df3.columns = ['CI','C','LAT','LONG']\n",
    "df4 = temp21[['CONTRIBUTING FACTOR VEHICLE 4',\"LATITUDE\", \"LONGITUDE\"]].reset_index()\n",
    "df4.columns = ['CI','C','LAT','LONG']\n",
    "\n",
    "dfc = pd.concat([df1, df2, df3, df4] ,sort='False')\n",
    "dfc['COUNT'] = 1\n",
    "#print (dfc)\n",
    "\n",
    "w18 = dfc.groupby([dfc['C'],dfc['CI'],dfc['LAT'],dfc['LONG']])['COUNT'].sum().reset_index()\n",
    "\n",
    "w18[~w18.duplicated(['C', 'CI'], keep=False)]\n",
    "\n",
    "w18 = w18.groupby([w18['C'],w18['LAT'],w18['LONG']])['COUNT'].count().reset_index().sort_values(by=['COUNT'], ascending=False)\n",
    "\n",
    "w18 = w18.groupby([w18['LAT'],w18['LONG']])['COUNT'].count().reset_index().sort_values(by=['COUNT'], ascending=False)\n",
    "\n",
    "\n",
    "print(w18)"
   ]
  },
  {
   "cell_type": "code",
   "execution_count": 20,
   "metadata": {},
   "outputs": [
    {
     "data": {
      "image/png": "[encoded data removed]",
      "text/plain": [
       "<Figure size 432x288 with 2 Axes>"
      ]
     },
     "metadata": {
      "needs_background": "light"
     },
     "output_type": "display_data"
    }
   ],
   "source": [
    "w19 = w19.pivot(\"LAT\", \"LONG\", \"COUNT\")\n",
    "ax = sns.heatmap(w19)"
   ]
  },
  {
   "cell_type": "code",
   "execution_count": 21,
   "metadata": {},
   "outputs": [
    {
     "data": {
      "image/png": "[encoded data removed]",
      "text/plain": [
       "<Figure size 432x288 with 2 Axes>"
      ]
     },
     "metadata": {
      "needs_background": "light"
     },
     "output_type": "display_data"
    }
   ],
   "source": [
    "w18 = w18.pivot(\"LAT\", \"LONG\", \"COUNT\")\n",
    "ax = sns.heatmap(w18)"
   ]
  },
  {
   "cell_type": "markdown",
   "metadata": {
    "tags": [
     "ans_st"
    ]
   },
   "source": [
    "**Answer.**"
   ]
  },
  {
   "cell_type": "markdown",
   "metadata": {},
   "source": [
    "-------"
   ]
  },
  {
   "cell_type": "markdown",
   "metadata": {},
   "source": [
    "<h3>Exercise 12 :</h3>\n",
    "<p>Calculate the number of deaths caused by each type of vehicle. Plot a bar chart for the top 5 vehicles. Which vehicles are most often involved in deaths, and by how much more than the others?</p>\n",
    "<p><strong>For example,</strong> if two people died at an accident where 5 vehicles were involved: 4 are PASSENGER VEHICLE and 1 is a SPORT UTILITY/STATION WAGON. Then, we would add two deaths to each PASSENGER VEHICLE and SPORT UTILITY/STATION WAGON types.</p>\n",
    "<p><strong>Hint:</strong> You may want to create a new column with the total number of kills in the accident. For that you may find the function <code>.to_numpy()</code> useful. Then, proceed as the previous excercises to avoid double-counting the type of vehicles. </p>"
   ]
  },
  {
   "cell_type": "markdown",
   "metadata": {
    "tags": [
     "ans_st"
    ]
   },
   "source": [
    "**Answer.**"
   ]
  },
  {
   "cell_type": "code",
   "execution_count": 59,
   "metadata": {},
   "outputs": [
    {
     "name": "stdout",
     "output_type": "stream",
     "text": [
      "219\n"
     ]
    }
   ],
   "source": [
    "temp22 = adf.copy()\n",
    "temp22['KILLS'] =  temp22['NUMBER OF PEDESTRIANS KILLED']  + temp22['NUMBER OF CYCLIST KILLED']  + temp22['NUMBER OF MOTORIST KILLED']\n",
    "temp22 = temp22[(temp22['KILLS']>0)] \n",
    "print(len(temp22))\n",
    "#print(temp22)\n",
    "   \n",
    "listofcols = ['VEHICLE TYPE CODE 1', 'VEHICLE TYPE CODE 2','VEHICLE TYPE CODE 3', 'VEHICLE TYPE CODE 4', 'VEHICLE TYPE CODE 5']\n",
    "\n",
    "df1 = temp22[[listofcols[0],\"KILLS\"]].reset_index()\n",
    "#print(df1)\n",
    "df1.columns = ['I','C','K']\n",
    "df2 = temp22[[listofcols[1],\"KILLS\"]].reset_index()\n",
    "df2.columns = ['I','C','K']\n",
    "df3 = temp22[[listofcols[2],\"KILLS\"]].reset_index()\n",
    "df3.columns = ['I','C','K']\n",
    "df4 = temp22[[listofcols[3],\"KILLS\"]].reset_index()\n",
    "df4.columns = ['I','C','K']\n",
    "df5 = temp22[[listofcols[4],\"KILLS\"]].reset_index()\n",
    "df5.columns = ['I','C','K']\n",
    "\n",
    "dfc = pd.concat([df1, df2, df3, df4, df5] ,sort='False')\n",
    "#print(\"dfc len \", len(dfc))\n",
    "#dfc['COUNT'] = 1\n",
    "#print (dfc)\n",
    "\n",
    "w = dfc.groupby([dfc['C'],dfc['I'],dfc['K']]).count().reset_index()\n",
    "#print(\"w len \", len(w))\n",
    "w = w.groupby([w['C']])['K'].sum().reset_index().sort_values(by=['K'], ascending=False)\n",
    "#print(w)\n"
   ]
  },
  {
   "cell_type": "code",
   "execution_count": 61,
   "metadata": {},
   "outputs": [
    {
     "name": "stdout",
     "output_type": "stream",
     "text": [
      "                                      C   K\n",
      "25  Station Wagon/Sport Utility Vehicle  87\n",
      "23                                Sedan  65\n",
      "16                           Motorcycle  22\n",
      "19                    PASSENGER VEHICLE  21\n",
      "22        SPORT UTILITY / STATION WAGON  20\n"
     ]
    },
    {
     "data": {
      "image/png": "[encoded data removed]",
      "text/plain": [
       "<Figure size 432x288 with 1 Axes>"
      ]
     },
     "metadata": {
      "needs_background": "light"
     },
     "output_type": "display_data"
    }
   ],
   "source": [
    "theHead = w.head()\n",
    "print(theHead)\n",
    "ax = sns.barplot(x=\"C\", y=\"K\", data=theHead)"
   ]
  },
  {
   "cell_type": "code",
   "execution_count": null,
   "metadata": {},
   "outputs": [],
   "source": []
  }
 ],
 "metadata": {
  "kernelspec": {
   "display_name": "Python 3",
   "language": "python",
   "name": "python3"
  },
  "language_info": {
   "codemirror_mode": {
    "name": "ipython",
    "version": 3
   },
   "file_extension": ".py",
   "mimetype": "text/x-python",
   "name": "python",
   "nbconvert_exporter": "python",
   "pygments_lexer": "ipython3",
   "version": "3.6.7"
  }
 },
 "nbformat": 4,
 "nbformat_minor": 2
}
